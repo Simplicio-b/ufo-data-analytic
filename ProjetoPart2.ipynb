{
 "cells": [
  {
   "cell_type": "markdown",
   "id": "496e3b9f-78ff-408a-b957-dea03a894a9f",
   "metadata": {},
   "source": [
    "# Trabalho de ICD: UAP(Fenômenos Anômalos Não Identificados)\n",
    "*Professor: Yuri Malheiros Alunos: Vitoria, Simplicio, Daiellem, Bruno*"
   ]
  },
  {
   "cell_type": "markdown",
   "id": "015ef11b-ca87-4be4-9e6a-fc42f00a0bf9",
   "metadata": {},
   "source": [
    "### Parte 2:\n",
    "\n",
    "Na segunda parte do projeto de Introdução a Ciência de Dados nós temos por objetivo iniciar a analise exploratória dos dados. Analisamos nosso dataframe e calculamos as medidas de centralidades das variáveis disponíveis e em seguida criamos o boxplots das mesmas."
   ]
  },
  {
   "cell_type": "markdown",
   "id": "ac4c6dae-9045-49cb-b1b6-fc55c2573e7c",
   "metadata": {},
   "source": [
    "Importando as bibliotecas que vamos precisar:"
   ]
  },
  {
   "cell_type": "code",
   "execution_count": 2,
   "id": "682a3440-1043-4a50-8344-bee4d9c859d3",
   "metadata": {},
   "outputs": [],
   "source": [
    "import pandas as pd"
   ]
  },
  {
   "cell_type": "code",
   "execution_count": 3,
   "id": "785fe9a1-5c1e-4dfe-9a31-fae51da6cd24",
   "metadata": {},
   "outputs": [],
   "source": [
    "import numpy as np"
   ]
  },
  {
   "cell_type": "code",
   "execution_count": 4,
   "id": "603823c2-19b8-4bf6-a2d3-39d94950321c",
   "metadata": {},
   "outputs": [],
   "source": [
    "import seaborn as sns"
   ]
  },
  {
   "cell_type": "code",
   "execution_count": 5,
   "id": "fe34cb0e-7363-4ead-a6f3-bdf125bfd5ed",
   "metadata": {},
   "outputs": [],
   "source": [
    "import matplotlib.pyplot as plt"
   ]
  },
  {
   "cell_type": "markdown",
   "id": "05b01b2b-c290-4077-a161-df2694378edf",
   "metadata": {},
   "source": [
    "No outro notebook nós pegamos os três dataframes e fizemos as limpezas necessarias, agora temos os dataframes limpos e tambem já conhecemos nossos dados e assim saberemos como vamos lidar com cada uma."
   ]
  },
  {
   "cell_type": "code",
   "execution_count": 8,
   "id": "aee385a4-32ae-43f1-8a81-2364eee11881",
   "metadata": {},
   "outputs": [
    {
     "data": {
      "text/html": [
       "<div>\n",
       "<style scoped>\n",
       "    .dataframe tbody tr th:only-of-type {\n",
       "        vertical-align: middle;\n",
       "    }\n",
       "\n",
       "    .dataframe tbody tr th {\n",
       "        vertical-align: top;\n",
       "    }\n",
       "\n",
       "    .dataframe thead th {\n",
       "        text-align: right;\n",
       "    }\n",
       "</style>\n",
       "<table border=\"1\" class=\"dataframe\">\n",
       "  <thead>\n",
       "    <tr style=\"text-align: right;\">\n",
       "      <th></th>\n",
       "      <th>Unnamed: 0</th>\n",
       "      <th>posted</th>\n",
       "      <th>date</th>\n",
       "      <th>time</th>\n",
       "      <th>city</th>\n",
       "      <th>state</th>\n",
       "      <th>shape</th>\n",
       "      <th>duration</th>\n",
       "      <th>summary</th>\n",
       "      <th>images</th>\n",
       "      <th>img_link</th>\n",
       "      <th>lat</th>\n",
       "      <th>lng</th>\n",
       "      <th>population</th>\n",
       "    </tr>\n",
       "  </thead>\n",
       "  <tbody>\n",
       "    <tr>\n",
       "      <th>0</th>\n",
       "      <td>0</td>\n",
       "      <td>03/06/23</td>\n",
       "      <td>03/05/23</td>\n",
       "      <td>20:47:00</td>\n",
       "      <td>Villas</td>\n",
       "      <td>NJ</td>\n",
       "      <td>Diamond</td>\n",
       "      <td>Few minutes long</td>\n",
       "      <td>Low flying aircraft</td>\n",
       "      <td>Yes</td>\n",
       "      <td>https://nuforc.org/webreports/reports/174/S174...</td>\n",
       "      <td>39.0157</td>\n",
       "      <td>-74.9350</td>\n",
       "      <td>9866</td>\n",
       "    </tr>\n",
       "    <tr>\n",
       "      <th>1</th>\n",
       "      <td>1</td>\n",
       "      <td>03/06/23</td>\n",
       "      <td>03/05/23</td>\n",
       "      <td>19:00:00</td>\n",
       "      <td>Mooresville</td>\n",
       "      <td>NC</td>\n",
       "      <td>Orb</td>\n",
       "      <td>10 seconds</td>\n",
       "      <td>Turquoise colored light traveling from south t...</td>\n",
       "      <td>Yes</td>\n",
       "      <td>https://nuforc.org/webreports/reports/174/S174...</td>\n",
       "      <td>35.5847</td>\n",
       "      <td>-80.8266</td>\n",
       "      <td>48431</td>\n",
       "    </tr>\n",
       "    <tr>\n",
       "      <th>2</th>\n",
       "      <td>2</td>\n",
       "      <td>03/06/23</td>\n",
       "      <td>03/05/23</td>\n",
       "      <td>12:30:00</td>\n",
       "      <td>Los Angeles</td>\n",
       "      <td>CA</td>\n",
       "      <td>Changing</td>\n",
       "      <td>4 min</td>\n",
       "      <td>Dark object triangular changed shape</td>\n",
       "      <td>Yes</td>\n",
       "      <td>https://nuforc.org/webreports/reports/174/S174...</td>\n",
       "      <td>34.1141</td>\n",
       "      <td>-118.4068</td>\n",
       "      <td>12121244</td>\n",
       "    </tr>\n",
       "    <tr>\n",
       "      <th>3</th>\n",
       "      <td>3</td>\n",
       "      <td>03/06/23</td>\n",
       "      <td>03/05/23</td>\n",
       "      <td>00:30:00</td>\n",
       "      <td>Brooklyn</td>\n",
       "      <td>NY</td>\n",
       "      <td>Light</td>\n",
       "      <td>Atleast 10 mins</td>\n",
       "      <td>Light object sky, In Brooklyn towards Manhattan</td>\n",
       "      <td>Yes</td>\n",
       "      <td>https://nuforc.org/webreports/reports/174/S174...</td>\n",
       "      <td>40.6501</td>\n",
       "      <td>-73.9496</td>\n",
       "      <td>2736074</td>\n",
       "    </tr>\n",
       "    <tr>\n",
       "      <th>4</th>\n",
       "      <td>4</td>\n",
       "      <td>03/06/23</td>\n",
       "      <td>03/04/23</td>\n",
       "      <td>23:49:00</td>\n",
       "      <td>Enid</td>\n",
       "      <td>OK</td>\n",
       "      <td>Formation</td>\n",
       "      <td>NaN</td>\n",
       "      <td>It suddenly appeared over rhe neighbors house ...</td>\n",
       "      <td>Yes</td>\n",
       "      <td>https://nuforc.org/webreports/reports/174/S174...</td>\n",
       "      <td>36.4063</td>\n",
       "      <td>-97.8700</td>\n",
       "      <td>51129</td>\n",
       "    </tr>\n",
       "    <tr>\n",
       "      <th>...</th>\n",
       "      <td>...</td>\n",
       "      <td>...</td>\n",
       "      <td>...</td>\n",
       "      <td>...</td>\n",
       "      <td>...</td>\n",
       "      <td>...</td>\n",
       "      <td>...</td>\n",
       "      <td>...</td>\n",
       "      <td>...</td>\n",
       "      <td>...</td>\n",
       "      <td>...</td>\n",
       "      <td>...</td>\n",
       "      <td>...</td>\n",
       "      <td>...</td>\n",
       "    </tr>\n",
       "    <tr>\n",
       "      <th>1312</th>\n",
       "      <td>1312</td>\n",
       "      <td>12/19/21</td>\n",
       "      <td>12/09/21</td>\n",
       "      <td>04:00:00</td>\n",
       "      <td>Staunton</td>\n",
       "      <td>VA</td>\n",
       "      <td>Circle</td>\n",
       "      <td>&gt;20 minutes</td>\n",
       "      <td>The object was distinctively different than th...</td>\n",
       "      <td>Yes</td>\n",
       "      <td>https://nuforc.org/webreports/reports/165/S165...</td>\n",
       "      <td>38.1593</td>\n",
       "      <td>-79.0611</td>\n",
       "      <td>25358</td>\n",
       "    </tr>\n",
       "    <tr>\n",
       "      <th>1313</th>\n",
       "      <td>1313</td>\n",
       "      <td>12/19/21</td>\n",
       "      <td>12/03/21</td>\n",
       "      <td>18:00:00</td>\n",
       "      <td>Wentworth</td>\n",
       "      <td>MO</td>\n",
       "      <td>Cylinder</td>\n",
       "      <td>NaN</td>\n",
       "      <td>Long cylinderical craft with about 15 or 20 wh...</td>\n",
       "      <td>Yes</td>\n",
       "      <td>https://nuforc.org/webreports/reports/165/S165...</td>\n",
       "      <td>36.9932</td>\n",
       "      <td>-94.0756</td>\n",
       "      <td>85</td>\n",
       "    </tr>\n",
       "    <tr>\n",
       "      <th>1314</th>\n",
       "      <td>1314</td>\n",
       "      <td>12/19/21</td>\n",
       "      <td>09/27/21</td>\n",
       "      <td>22:00:00</td>\n",
       "      <td>Blowing Rock</td>\n",
       "      <td>NC</td>\n",
       "      <td>Light</td>\n",
       "      <td>NaN</td>\n",
       "      <td>I saw three lights in the sky that approached ...</td>\n",
       "      <td>Yes</td>\n",
       "      <td>https://nuforc.org/webreports/reports/165/S165...</td>\n",
       "      <td>36.1298</td>\n",
       "      <td>-81.6706</td>\n",
       "      <td>1072</td>\n",
       "    </tr>\n",
       "    <tr>\n",
       "      <th>1315</th>\n",
       "      <td>1315</td>\n",
       "      <td>12/19/21</td>\n",
       "      <td>02/21/20</td>\n",
       "      <td>19:30:00</td>\n",
       "      <td>Scottsdale</td>\n",
       "      <td>AZ</td>\n",
       "      <td>Other</td>\n",
       "      <td>NaN</td>\n",
       "      <td>Bank of what looked like blacklight screens fl...</td>\n",
       "      <td>Yes</td>\n",
       "      <td>https://nuforc.org/webreports/reports/165/S165...</td>\n",
       "      <td>33.6872</td>\n",
       "      <td>-111.8651</td>\n",
       "      <td>238685</td>\n",
       "    </tr>\n",
       "    <tr>\n",
       "      <th>1316</th>\n",
       "      <td>1316</td>\n",
       "      <td>12/19/21</td>\n",
       "      <td>03/04/15</td>\n",
       "      <td>16:30:00</td>\n",
       "      <td>Clear Lake</td>\n",
       "      <td>CA</td>\n",
       "      <td>Cigar</td>\n",
       "      <td>NaN</td>\n",
       "      <td>I seen a cigar shaped craft with black rectang...</td>\n",
       "      <td>Yes</td>\n",
       "      <td>https://nuforc.org/webreports/reports/165/S165...</td>\n",
       "      <td>38.9589</td>\n",
       "      <td>-122.6330</td>\n",
       "      <td>16468</td>\n",
       "    </tr>\n",
       "  </tbody>\n",
       "</table>\n",
       "<p>1317 rows × 14 columns</p>\n",
       "</div>"
      ],
      "text/plain": [
       "      Unnamed: 0    posted      date      time          city state      shape  \\\n",
       "0              0  03/06/23  03/05/23  20:47:00        Villas    NJ    Diamond   \n",
       "1              1  03/06/23  03/05/23  19:00:00   Mooresville    NC        Orb   \n",
       "2              2  03/06/23  03/05/23  12:30:00   Los Angeles    CA   Changing   \n",
       "3              3  03/06/23  03/05/23  00:30:00      Brooklyn    NY      Light   \n",
       "4              4  03/06/23  03/04/23  23:49:00          Enid    OK  Formation   \n",
       "...          ...       ...       ...       ...           ...   ...        ...   \n",
       "1312        1312  12/19/21  12/09/21  04:00:00      Staunton    VA     Circle   \n",
       "1313        1313  12/19/21  12/03/21  18:00:00     Wentworth    MO   Cylinder   \n",
       "1314        1314  12/19/21  09/27/21  22:00:00  Blowing Rock    NC      Light   \n",
       "1315        1315  12/19/21  02/21/20  19:30:00    Scottsdale    AZ      Other   \n",
       "1316        1316  12/19/21  03/04/15  16:30:00    Clear Lake    CA      Cigar   \n",
       "\n",
       "              duration                                            summary  \\\n",
       "0     Few minutes long                                Low flying aircraft   \n",
       "1           10 seconds  Turquoise colored light traveling from south t...   \n",
       "2                4 min               Dark object triangular changed shape   \n",
       "3      Atleast 10 mins    Light object sky, In Brooklyn towards Manhattan   \n",
       "4                  NaN  It suddenly appeared over rhe neighbors house ...   \n",
       "...                ...                                                ...   \n",
       "1312       >20 minutes  The object was distinctively different than th...   \n",
       "1313               NaN  Long cylinderical craft with about 15 or 20 wh...   \n",
       "1314               NaN  I saw three lights in the sky that approached ...   \n",
       "1315               NaN  Bank of what looked like blacklight screens fl...   \n",
       "1316               NaN  I seen a cigar shaped craft with black rectang...   \n",
       "\n",
       "     images                                           img_link      lat  \\\n",
       "0       Yes  https://nuforc.org/webreports/reports/174/S174...  39.0157   \n",
       "1       Yes  https://nuforc.org/webreports/reports/174/S174...  35.5847   \n",
       "2       Yes  https://nuforc.org/webreports/reports/174/S174...  34.1141   \n",
       "3       Yes  https://nuforc.org/webreports/reports/174/S174...  40.6501   \n",
       "4       Yes  https://nuforc.org/webreports/reports/174/S174...  36.4063   \n",
       "...     ...                                                ...      ...   \n",
       "1312    Yes  https://nuforc.org/webreports/reports/165/S165...  38.1593   \n",
       "1313    Yes  https://nuforc.org/webreports/reports/165/S165...  36.9932   \n",
       "1314    Yes  https://nuforc.org/webreports/reports/165/S165...  36.1298   \n",
       "1315    Yes  https://nuforc.org/webreports/reports/165/S165...  33.6872   \n",
       "1316    Yes  https://nuforc.org/webreports/reports/165/S165...  38.9589   \n",
       "\n",
       "           lng  population  \n",
       "0     -74.9350        9866  \n",
       "1     -80.8266       48431  \n",
       "2    -118.4068    12121244  \n",
       "3     -73.9496     2736074  \n",
       "4     -97.8700       51129  \n",
       "...        ...         ...  \n",
       "1312  -79.0611       25358  \n",
       "1313  -94.0756          85  \n",
       "1314  -81.6706        1072  \n",
       "1315 -111.8651      238685  \n",
       "1316 -122.6330       16468  \n",
       "\n",
       "[1317 rows x 14 columns]"
      ]
     },
     "execution_count": 8,
     "metadata": {},
     "output_type": "execute_result"
    }
   ],
   "source": [
    "df1 = pd.read_csv(\"./df1.csv\")\n",
    "df1"
   ]
  },
  {
   "cell_type": "markdown",
   "id": "8cc1d0d2-416e-42c3-9fdd-bf0638dddc7a",
   "metadata": {},
   "source": [
    "O primeiro DataSet tem a maioria das colunas com dados categoricos. Escolhemos, por relevancia, três variáveis de dados categoricos, \"city\", \"state\" e \"shape\", para tirar a medida de centralidade mais indicada para esse tipo de dado, a moda."
   ]
  },
  {
   "cell_type": "code",
   "execution_count": 9,
   "id": "3e1fd133-be0a-41c0-8dbc-fb1d4a9ecda0",
   "metadata": {},
   "outputs": [
    {
     "data": {
      "text/plain": [
       "0    Las Vegas\n",
       "Name: city, dtype: object"
      ]
     },
     "execution_count": 9,
     "metadata": {},
     "output_type": "execute_result"
    }
   ],
   "source": [
    "df1[\"city\"].mode()"
   ]
  },
  {
   "cell_type": "code",
   "execution_count": 19,
   "id": "684abdb0-d10f-4056-97e9-3d67f9c8d85d",
   "metadata": {},
   "outputs": [],
   "source": [
    "freqcity = df1[\"city\"].value_counts()"
   ]
  },
  {
   "cell_type": "code",
   "execution_count": 20,
   "id": "45098f18-e3f0-4fa1-898d-732d1393435e",
   "metadata": {},
   "outputs": [
    {
     "data": {
      "text/plain": [
       "1.384858044164038"
      ]
     },
     "execution_count": 20,
     "metadata": {},
     "output_type": "execute_result"
    }
   ],
   "source": [
    "freqcity.mean()"
   ]
  },
  {
   "cell_type": "markdown",
   "id": "02e044a9-86dc-4d7b-8163-777ae6a3740e",
   "metadata": {},
   "source": [
    "Usei o \".value_counts()\" para contar a frenquência de cada cidade contida no DataFrame e atribuie os valores a variavel \"a\", assim obtemos a média de aparições por cidade."
   ]
  },
  {
   "cell_type": "code",
   "execution_count": 21,
   "id": "4ab9ecb4-61c5-4fff-b743-737a00f36470",
   "metadata": {},
   "outputs": [
    {
     "data": {
      "text/plain": [
       "0    FL\n",
       "Name: state, dtype: object"
      ]
     },
     "execution_count": 21,
     "metadata": {},
     "output_type": "execute_result"
    }
   ],
   "source": [
    "df1[\"state\"].mode()"
   ]
  },
  {
   "cell_type": "code",
   "execution_count": 22,
   "id": "f186c5bc-254c-48de-ad3f-26e19e1de94d",
   "metadata": {},
   "outputs": [],
   "source": [
    "freqState = df1[\"state\"].value_counts()"
   ]
  },
  {
   "cell_type": "code",
   "execution_count": 23,
   "id": "97bfb383-49f0-46a0-97f2-b3ac55c6d932",
   "metadata": {},
   "outputs": [
    {
     "data": {
      "text/plain": [
       "25.823529411764707"
      ]
     },
     "execution_count": 23,
     "metadata": {},
     "output_type": "execute_result"
    }
   ],
   "source": [
    "freqState.mean()"
   ]
  },
  {
   "cell_type": "markdown",
   "id": "70402169-14c5-4f83-ba05-5cd5d8bb5a86",
   "metadata": {},
   "source": [
    "Usei o mesmo esquema para saber a media de aparições por estado."
   ]
  },
  {
   "cell_type": "code",
   "execution_count": 24,
   "id": "ad0140e7-5b94-42f6-a0c1-ad35abd3dbd8",
   "metadata": {},
   "outputs": [
    {
     "data": {
      "text/plain": [
       "0    Circle\n",
       "Name: shape, dtype: object"
      ]
     },
     "execution_count": 24,
     "metadata": {},
     "output_type": "execute_result"
    }
   ],
   "source": [
    "df1[\"shape\"].mode()"
   ]
  },
  {
   "cell_type": "markdown",
   "id": "dd936afa-c19a-424c-b897-565ac12d742a",
   "metadata": {},
   "source": [
    "\n",
    "Com essas medidas de centralidade obtemos alguns dados importantes a cidade(city) que mais teve aparições foi Las Vegas, o estado foi a Florida(FL) e o formato mais obsevado nas aparições foi circular.\n"
   ]
  },
  {
   "cell_type": "markdown",
   "id": "b5eb2251-f42f-4258-be35-d89cbe51831a",
   "metadata": {},
   "source": [
    "Tem outras colunas que contam com numeros, mas são consideradas object pelo uso dos caracteres então vamos tratalas assim"
   ]
  },
  {
   "cell_type": "code",
   "execution_count": 26,
   "id": "6a68b753-e8ac-43bf-9190-e6175cf87c42",
   "metadata": {},
   "outputs": [
    {
     "data": {
      "text/plain": [
       "0    09/24/22\n",
       "Name: date, dtype: object"
      ]
     },
     "execution_count": 26,
     "metadata": {},
     "output_type": "execute_result"
    }
   ],
   "source": [
    "df1[\"date\"].mode()"
   ]
  },
  {
   "cell_type": "code",
   "execution_count": 27,
   "id": "683e22fd-89c0-4be4-9b02-40858dc88cf2",
   "metadata": {},
   "outputs": [
    {
     "data": {
      "text/plain": [
       "0    21:00:00\n",
       "1    22:00:00\n",
       "Name: time, dtype: object"
      ]
     },
     "execution_count": 27,
     "metadata": {},
     "output_type": "execute_result"
    }
   ],
   "source": [
    "df1[\"time\"].mode()"
   ]
  },
  {
   "cell_type": "markdown",
   "id": "c45c28bb-3705-430e-9fa3-da14aeb90c51",
   "metadata": {},
   "source": [
    "Agora observamos que a data que teve mais aparições foi no dia 24 de Setembro de 2022 e as horas mais recorrentes de aparições foram as 21h e tambem as 22h"
   ]
  },
  {
   "cell_type": "markdown",
   "id": "48370644-8e00-408f-bc79-083d54defeee",
   "metadata": {},
   "source": [
    "Na variaviel \"population\" foi possivel obter as 3 medidas de centralidade. Obtivemos a média da população das cidades onde teve aparições, a mediana e a moda. Foi possivel observa a discrepância em relação a media e a mediana, isso pode ser obervado no Boxplot como tem muitos Outliers"
   ]
  },
  {
   "cell_type": "code",
   "execution_count": 28,
   "id": "73621df6-b6b3-4422-b7c9-8e153b68fe2e",
   "metadata": {},
   "outputs": [
    {
     "data": {
      "text/plain": [
       "0    2150373\n",
       "Name: population, dtype: int64"
      ]
     },
     "execution_count": 28,
     "metadata": {},
     "output_type": "execute_result"
    }
   ],
   "source": [
    "df1[\"population\"].mode()"
   ]
  },
  {
   "cell_type": "code",
   "execution_count": 29,
   "id": "2b125b25-2266-4e74-8aa1-28c135737438",
   "metadata": {},
   "outputs": [
    {
     "data": {
      "text/plain": [
       "558924.8762338648"
      ]
     },
     "execution_count": 29,
     "metadata": {},
     "output_type": "execute_result"
    }
   ],
   "source": [
    "df1[\"population\"].mean()"
   ]
  },
  {
   "cell_type": "code",
   "execution_count": 30,
   "id": "ab992c9e-e131-402b-9933-e7793e1d6962",
   "metadata": {},
   "outputs": [
    {
     "data": {
      "text/plain": [
       "37871.0"
      ]
     },
     "execution_count": 30,
     "metadata": {},
     "output_type": "execute_result"
    }
   ],
   "source": [
    "df1[\"population\"].median()"
   ]
  },
  {
   "cell_type": "code",
   "execution_count": 31,
   "id": "2e564650-e560-4906-b882-8a852eed4ada",
   "metadata": {},
   "outputs": [
    {
     "data": {
      "text/plain": [
       "<Axes: >"
      ]
     },
     "execution_count": 31,
     "metadata": {},
     "output_type": "execute_result"
    },
    {
     "data": {
      "image/png": "[encoded data removed]",
      "text/plain": [
       "<Figure size 640x480 with 1 Axes>"
      ]
     },
     "metadata": {},
     "output_type": "display_data"
    }
   ],
   "source": [
    "df1.boxplot(column= \"population\")"
   ]
  },
  {
   "cell_type": "code",
   "execution_count": 32,
   "id": "14fa993d-6b5e-4591-a730-5929754a7041",
   "metadata": {},
   "outputs": [
    {
     "data": {
      "text/html": [
       "<div>\n",
       "<style scoped>\n",
       "    .dataframe tbody tr th:only-of-type {\n",
       "        vertical-align: middle;\n",
       "    }\n",
       "\n",
       "    .dataframe tbody tr th {\n",
       "        vertical-align: top;\n",
       "    }\n",
       "\n",
       "    .dataframe thead th {\n",
       "        text-align: right;\n",
       "    }\n",
       "</style>\n",
       "<table border=\"1\" class=\"dataframe\">\n",
       "  <thead>\n",
       "    <tr style=\"text-align: right;\">\n",
       "      <th></th>\n",
       "      <th>Unnamed: 0</th>\n",
       "      <th>Date_time</th>\n",
       "      <th>city</th>\n",
       "      <th>state/province</th>\n",
       "      <th>country</th>\n",
       "      <th>UFO_shape</th>\n",
       "      <th>length_of_encounter_seconds</th>\n",
       "      <th>described_duration_of_encounter</th>\n",
       "      <th>description</th>\n",
       "      <th>date_documented</th>\n",
       "      <th>latitude</th>\n",
       "      <th>longitude</th>\n",
       "    </tr>\n",
       "  </thead>\n",
       "  <tbody>\n",
       "    <tr>\n",
       "      <th>0</th>\n",
       "      <td>0</td>\n",
       "      <td>10/10/1949 20:30</td>\n",
       "      <td>san marcos</td>\n",
       "      <td>tx</td>\n",
       "      <td>us</td>\n",
       "      <td>cylinder</td>\n",
       "      <td>2700</td>\n",
       "      <td>45 minutes</td>\n",
       "      <td>This event took place in early fall around 194...</td>\n",
       "      <td>4/27/2004</td>\n",
       "      <td>29.883056</td>\n",
       "      <td>-97.941111</td>\n",
       "    </tr>\n",
       "    <tr>\n",
       "      <th>1</th>\n",
       "      <td>1</td>\n",
       "      <td>10/10/1949 21:00</td>\n",
       "      <td>lackland afb</td>\n",
       "      <td>tx</td>\n",
       "      <td>NaN</td>\n",
       "      <td>light</td>\n",
       "      <td>7200</td>\n",
       "      <td>1-2 hrs</td>\n",
       "      <td>1949 Lackland AFB&amp;#44 TX.  Lights racing acros...</td>\n",
       "      <td>12/16/2005</td>\n",
       "      <td>29.384210</td>\n",
       "      <td>-98.581082</td>\n",
       "    </tr>\n",
       "    <tr>\n",
       "      <th>2</th>\n",
       "      <td>2</td>\n",
       "      <td>10/10/1955 17:00</td>\n",
       "      <td>chester (uk/england)</td>\n",
       "      <td>NaN</td>\n",
       "      <td>gb</td>\n",
       "      <td>circle</td>\n",
       "      <td>20</td>\n",
       "      <td>20 seconds</td>\n",
       "      <td>Green/Orange circular disc over Chester&amp;#44 En...</td>\n",
       "      <td>1/21/2008</td>\n",
       "      <td>53.200000</td>\n",
       "      <td>-2.916667</td>\n",
       "    </tr>\n",
       "    <tr>\n",
       "      <th>3</th>\n",
       "      <td>3</td>\n",
       "      <td>10/10/1956 21:00</td>\n",
       "      <td>edna</td>\n",
       "      <td>tx</td>\n",
       "      <td>us</td>\n",
       "      <td>circle</td>\n",
       "      <td>20</td>\n",
       "      <td>1/2 hour</td>\n",
       "      <td>My older brother and twin sister were leaving ...</td>\n",
       "      <td>1/17/2004</td>\n",
       "      <td>28.978333</td>\n",
       "      <td>-96.645833</td>\n",
       "    </tr>\n",
       "    <tr>\n",
       "      <th>4</th>\n",
       "      <td>4</td>\n",
       "      <td>10/10/1960 20:00</td>\n",
       "      <td>kaneohe</td>\n",
       "      <td>hi</td>\n",
       "      <td>us</td>\n",
       "      <td>light</td>\n",
       "      <td>900</td>\n",
       "      <td>15 minutes</td>\n",
       "      <td>AS a Marine 1st Lt. flying an FJ4B fighter/att...</td>\n",
       "      <td>1/22/2004</td>\n",
       "      <td>21.418056</td>\n",
       "      <td>-157.803611</td>\n",
       "    </tr>\n",
       "    <tr>\n",
       "      <th>...</th>\n",
       "      <td>...</td>\n",
       "      <td>...</td>\n",
       "      <td>...</td>\n",
       "      <td>...</td>\n",
       "      <td>...</td>\n",
       "      <td>...</td>\n",
       "      <td>...</td>\n",
       "      <td>...</td>\n",
       "      <td>...</td>\n",
       "      <td>...</td>\n",
       "      <td>...</td>\n",
       "      <td>...</td>\n",
       "    </tr>\n",
       "    <tr>\n",
       "      <th>80327</th>\n",
       "      <td>80327</td>\n",
       "      <td>9/9/2013 21:15</td>\n",
       "      <td>nashville</td>\n",
       "      <td>tn</td>\n",
       "      <td>us</td>\n",
       "      <td>light</td>\n",
       "      <td>600</td>\n",
       "      <td>10 minutes</td>\n",
       "      <td>Round from the distance/slowly changing colors...</td>\n",
       "      <td>9/30/2013</td>\n",
       "      <td>36.165833</td>\n",
       "      <td>-86.784444</td>\n",
       "    </tr>\n",
       "    <tr>\n",
       "      <th>80328</th>\n",
       "      <td>80328</td>\n",
       "      <td>9/9/2013 22:00</td>\n",
       "      <td>boise</td>\n",
       "      <td>id</td>\n",
       "      <td>us</td>\n",
       "      <td>circle</td>\n",
       "      <td>1200</td>\n",
       "      <td>20 minutes</td>\n",
       "      <td>Boise&amp;#44 ID&amp;#44 spherical&amp;#44 20 min&amp;#44 10 r...</td>\n",
       "      <td>9/30/2013</td>\n",
       "      <td>43.613611</td>\n",
       "      <td>-116.202500</td>\n",
       "    </tr>\n",
       "    <tr>\n",
       "      <th>80329</th>\n",
       "      <td>80329</td>\n",
       "      <td>9/9/2013 22:00</td>\n",
       "      <td>napa</td>\n",
       "      <td>ca</td>\n",
       "      <td>us</td>\n",
       "      <td>other</td>\n",
       "      <td>1200</td>\n",
       "      <td>hour</td>\n",
       "      <td>Napa UFO&amp;#44</td>\n",
       "      <td>9/30/2013</td>\n",
       "      <td>38.297222</td>\n",
       "      <td>-122.284444</td>\n",
       "    </tr>\n",
       "    <tr>\n",
       "      <th>80330</th>\n",
       "      <td>80330</td>\n",
       "      <td>9/9/2013 22:20</td>\n",
       "      <td>vienna</td>\n",
       "      <td>va</td>\n",
       "      <td>us</td>\n",
       "      <td>circle</td>\n",
       "      <td>5</td>\n",
       "      <td>5 seconds</td>\n",
       "      <td>Saw a five gold lit cicular craft moving fastl...</td>\n",
       "      <td>9/30/2013</td>\n",
       "      <td>38.901111</td>\n",
       "      <td>-77.265556</td>\n",
       "    </tr>\n",
       "    <tr>\n",
       "      <th>80331</th>\n",
       "      <td>80331</td>\n",
       "      <td>9/9/2013 23:00</td>\n",
       "      <td>edmond</td>\n",
       "      <td>ok</td>\n",
       "      <td>us</td>\n",
       "      <td>cigar</td>\n",
       "      <td>1020</td>\n",
       "      <td>17 minutes</td>\n",
       "      <td>2 witnesses 2  miles apart&amp;#44 Red &amp;amp; White...</td>\n",
       "      <td>9/30/2013</td>\n",
       "      <td>35.652778</td>\n",
       "      <td>-97.477778</td>\n",
       "    </tr>\n",
       "  </tbody>\n",
       "</table>\n",
       "<p>80332 rows × 12 columns</p>\n",
       "</div>"
      ],
      "text/plain": [
       "       Unnamed: 0         Date_time                  city state/province  \\\n",
       "0               0  10/10/1949 20:30            san marcos             tx   \n",
       "1               1  10/10/1949 21:00          lackland afb             tx   \n",
       "2               2  10/10/1955 17:00  chester (uk/england)            NaN   \n",
       "3               3  10/10/1956 21:00                  edna             tx   \n",
       "4               4  10/10/1960 20:00               kaneohe             hi   \n",
       "...           ...               ...                   ...            ...   \n",
       "80327       80327    9/9/2013 21:15             nashville             tn   \n",
       "80328       80328    9/9/2013 22:00                 boise             id   \n",
       "80329       80329    9/9/2013 22:00                  napa             ca   \n",
       "80330       80330    9/9/2013 22:20                vienna             va   \n",
       "80331       80331    9/9/2013 23:00                edmond             ok   \n",
       "\n",
       "      country UFO_shape length_of_encounter_seconds  \\\n",
       "0          us  cylinder                        2700   \n",
       "1         NaN     light                        7200   \n",
       "2          gb    circle                          20   \n",
       "3          us    circle                          20   \n",
       "4          us     light                         900   \n",
       "...       ...       ...                         ...   \n",
       "80327      us     light                         600   \n",
       "80328      us    circle                        1200   \n",
       "80329      us     other                        1200   \n",
       "80330      us    circle                           5   \n",
       "80331      us     cigar                        1020   \n",
       "\n",
       "      described_duration_of_encounter  \\\n",
       "0                          45 minutes   \n",
       "1                             1-2 hrs   \n",
       "2                          20 seconds   \n",
       "3                            1/2 hour   \n",
       "4                          15 minutes   \n",
       "...                               ...   \n",
       "80327                      10 minutes   \n",
       "80328                      20 minutes   \n",
       "80329                            hour   \n",
       "80330                       5 seconds   \n",
       "80331                      17 minutes   \n",
       "\n",
       "                                             description date_documented  \\\n",
       "0      This event took place in early fall around 194...       4/27/2004   \n",
       "1      1949 Lackland AFB&#44 TX.  Lights racing acros...      12/16/2005   \n",
       "2      Green/Orange circular disc over Chester&#44 En...       1/21/2008   \n",
       "3      My older brother and twin sister were leaving ...       1/17/2004   \n",
       "4      AS a Marine 1st Lt. flying an FJ4B fighter/att...       1/22/2004   \n",
       "...                                                  ...             ...   \n",
       "80327  Round from the distance/slowly changing colors...       9/30/2013   \n",
       "80328  Boise&#44 ID&#44 spherical&#44 20 min&#44 10 r...       9/30/2013   \n",
       "80329                                       Napa UFO&#44       9/30/2013   \n",
       "80330  Saw a five gold lit cicular craft moving fastl...       9/30/2013   \n",
       "80331  2 witnesses 2  miles apart&#44 Red &amp; White...       9/30/2013   \n",
       "\n",
       "        latitude   longitude  \n",
       "0      29.883056  -97.941111  \n",
       "1      29.384210  -98.581082  \n",
       "2      53.200000   -2.916667  \n",
       "3      28.978333  -96.645833  \n",
       "4      21.418056 -157.803611  \n",
       "...          ...         ...  \n",
       "80327  36.165833  -86.784444  \n",
       "80328  43.613611 -116.202500  \n",
       "80329  38.297222 -122.284444  \n",
       "80330  38.901111  -77.265556  \n",
       "80331  35.652778  -97.477778  \n",
       "\n",
       "[80332 rows x 12 columns]"
      ]
     },
     "execution_count": 32,
     "metadata": {},
     "output_type": "execute_result"
    }
   ],
   "source": [
    "df2 = pd.read_csv(\"./df2.csv\", low_memory=False)\n",
    "df2"
   ]
  },
  {
   "cell_type": "markdown",
   "id": "3e3c5aa1-ea31-44ab-8955-624938453248",
   "metadata": {},
   "source": [
    "O segundo DataSet tambem conta com a maioria das colunas com dados categoricos. Escolhemos, por relevancia, 'Date_time', 'city', 'state/province', 'country', 'UFO_shape'', 'descriptiod' e 'length_of_encounter_seconds' para tirar a moda.\r\n",
    "\r\n"
   ]
  },
  {
   "cell_type": "code",
   "execution_count": 33,
   "id": "01ae3aee-92c3-432c-b742-c8aa76c938d5",
   "metadata": {},
   "outputs": [
    {
     "data": {
      "text/plain": [
       "0    7/4/2010 22:00\n",
       "Name: Date_time, dtype: object"
      ]
     },
     "execution_count": 33,
     "metadata": {},
     "output_type": "execute_result"
    }
   ],
   "source": [
    "df2[\"Date_time\"].mode()"
   ]
  },
  {
   "cell_type": "code",
   "execution_count": 34,
   "id": "be68f7cc-f2f0-45ea-bef3-2f6808d5e0e4",
   "metadata": {},
   "outputs": [
    {
     "data": {
      "text/plain": [
       "0    seattle\n",
       "Name: city, dtype: object"
      ]
     },
     "execution_count": 34,
     "metadata": {},
     "output_type": "execute_result"
    }
   ],
   "source": [
    "df2[\"city\"].mode()"
   ]
  },
  {
   "cell_type": "code",
   "execution_count": 35,
   "id": "2449d9fc-5a21-4f12-a75c-5713aa131568",
   "metadata": {},
   "outputs": [],
   "source": [
    "d = df2[\"city\"].value_counts()"
   ]
  },
  {
   "cell_type": "code",
   "execution_count": 36,
   "id": "814ae2cb-ddcb-4ac2-af8e-10c98a4c5504",
   "metadata": {},
   "outputs": [
    {
     "data": {
      "text/plain": [
       "4.0367839195979895"
      ]
     },
     "execution_count": 36,
     "metadata": {},
     "output_type": "execute_result"
    }
   ],
   "source": [
    "d.mean()"
   ]
  },
  {
   "cell_type": "markdown",
   "id": "e00980dc-5aca-4292-9fff-1c193e3e9e85",
   "metadata": {},
   "source": [
    "Usei o mesmo esquema do primeiro dataframe para obter a média de aparições por cidades."
   ]
  },
  {
   "cell_type": "code",
   "execution_count": 37,
   "id": "517c88b4-07d3-4796-8b84-b023625d07e7",
   "metadata": {},
   "outputs": [
    {
     "data": {
      "text/plain": [
       "0    ca\n",
       "Name: state/province, dtype: object"
      ]
     },
     "execution_count": 37,
     "metadata": {},
     "output_type": "execute_result"
    }
   ],
   "source": [
    "df2[\"state/province\"].mode()"
   ]
  },
  {
   "cell_type": "code",
   "execution_count": 38,
   "id": "af2a3c99-565d-43fc-a4f3-ef1d2073f0bd",
   "metadata": {},
   "outputs": [],
   "source": [
    "e = df2[\"state/province\"].value_counts()"
   ]
  },
  {
   "cell_type": "code",
   "execution_count": 39,
   "id": "5a21e91f-4d9e-4cc6-baf2-8f580e92f13b",
   "metadata": {},
   "outputs": [
    {
     "data": {
      "text/plain": [
       "1112.4626865671642"
      ]
     },
     "execution_count": 39,
     "metadata": {},
     "output_type": "execute_result"
    }
   ],
   "source": [
    "e.mean()"
   ]
  },
  {
   "cell_type": "markdown",
   "id": "611ab2ef-bf27-488f-8b72-0bb45d970931",
   "metadata": {},
   "source": [
    "Aqui \"e\" recebe a frequencia de aparições por estado, assim tiramos a média dessa variavel e obtemos a media de aparição por estados."
   ]
  },
  {
   "cell_type": "code",
   "execution_count": 40,
   "id": "52f0a5a6-7c6c-4391-80df-f240e4168e55",
   "metadata": {},
   "outputs": [
    {
     "data": {
      "text/plain": [
       "0    us\n",
       "Name: country, dtype: object"
      ]
     },
     "execution_count": 40,
     "metadata": {},
     "output_type": "execute_result"
    }
   ],
   "source": [
    "df2[\"country\"].mode()"
   ]
  },
  {
   "cell_type": "code",
   "execution_count": 41,
   "id": "02be28f7-751a-4510-835f-cb21c9e736d5",
   "metadata": {},
   "outputs": [],
   "source": [
    "f = df2[\"country\"].value_counts()"
   ]
  },
  {
   "cell_type": "code",
   "execution_count": 42,
   "id": "394ff8bd-6b12-4afd-ac37-4a25cf32e3db",
   "metadata": {},
   "outputs": [
    {
     "data": {
      "text/plain": [
       "14132.4"
      ]
     },
     "execution_count": 42,
     "metadata": {},
     "output_type": "execute_result"
    }
   ],
   "source": [
    "f.mean()"
   ]
  },
  {
   "cell_type": "markdown",
   "id": "0e3248aa-2e46-451a-af0d-8f8c63c24503",
   "metadata": {},
   "source": [
    "Aqui temos a media por país."
   ]
  },
  {
   "cell_type": "code",
   "execution_count": 43,
   "id": "10b11b82-ded1-4d6d-a9fe-224d92fa38e5",
   "metadata": {},
   "outputs": [
    {
     "data": {
      "text/plain": [
       "0    light\n",
       "Name: UFO_shape, dtype: object"
      ]
     },
     "execution_count": 43,
     "metadata": {},
     "output_type": "execute_result"
    }
   ],
   "source": [
    "df2[\"UFO_shape\"].mode()"
   ]
  },
  {
   "cell_type": "code",
   "execution_count": 44,
   "id": "04d4ffb9-465d-47c7-95e6-f00b5b902422",
   "metadata": {},
   "outputs": [
    {
     "data": {
      "text/plain": [
       "0    Fireball\n",
       "Name: description, dtype: object"
      ]
     },
     "execution_count": 44,
     "metadata": {},
     "output_type": "execute_result"
    }
   ],
   "source": [
    "df2[\"description\"].mode()"
   ]
  },
  {
   "cell_type": "code",
   "execution_count": 45,
   "id": "1e314b86-9e1f-443b-98f6-ec0e8a07e933",
   "metadata": {},
   "outputs": [
    {
     "data": {
      "text/plain": [
       "0    300\n",
       "Name: length_of_encounter_seconds, dtype: object"
      ]
     },
     "execution_count": 45,
     "metadata": {},
     "output_type": "execute_result"
    }
   ],
   "source": [
    "df2[\"length_of_encounter_seconds\"].mode()"
   ]
  },
  {
   "cell_type": "markdown",
   "id": "db4b3bf6-771f-4e06-b32b-405f4247cfb9",
   "metadata": {},
   "source": [
    "Asssim obtivemos que a data e a hora que mais houveram aparições foi no dia 7/4/2010 as 22:00h, aqui nós temos o intuito de tratar essa varaivel para separar os valores para obter dados mais detalhados. A cidade que teve mais aparições foi o seattle, o estado foi a Callifórnia(CA), o pais com mais aparições foi o Estados Unidos, a forma mais observada do OVNI foi \"luz\", a descrição mais recorrente foi uma \"bola de fogo\" e a maioria das aparições foi de 300 segundos.\n",
    "Na variave \"length_of_encounter_seconds\" tentamos tirar a media e a mediana, mas a variavel não se encontrava com valor numerico, assim temos o objetivo de trata-la para futuras observações. "
   ]
  },
  {
   "cell_type": "code",
   "execution_count": 46,
   "id": "5380a3a1-5af4-4d20-ad10-e7477ce1cb77",
   "metadata": {},
   "outputs": [
    {
     "data": {
      "text/html": [
       "<div>\n",
       "<style scoped>\n",
       "    .dataframe tbody tr th:only-of-type {\n",
       "        vertical-align: middle;\n",
       "    }\n",
       "\n",
       "    .dataframe tbody tr th {\n",
       "        vertical-align: top;\n",
       "    }\n",
       "\n",
       "    .dataframe thead th {\n",
       "        text-align: right;\n",
       "    }\n",
       "</style>\n",
       "<table border=\"1\" class=\"dataframe\">\n",
       "  <thead>\n",
       "    <tr style=\"text-align: right;\">\n",
       "      <th></th>\n",
       "      <th>Unnamed: 0</th>\n",
       "      <th>state</th>\n",
       "      <th>city</th>\n",
       "      <th>colour</th>\n",
       "      <th>shape</th>\n",
       "      <th>mday</th>\n",
       "      <th>month</th>\n",
       "      <th>year</th>\n",
       "      <th>hour</th>\n",
       "      <th>id</th>\n",
       "      <th>...</th>\n",
       "      <th>heatindex</th>\n",
       "      <th>windchill</th>\n",
       "      <th>vis</th>\n",
       "      <th>wdire</th>\n",
       "      <th>dewpt</th>\n",
       "      <th>precip</th>\n",
       "      <th>wspd</th>\n",
       "      <th>hum</th>\n",
       "      <th>wgust</th>\n",
       "      <th>conds</th>\n",
       "    </tr>\n",
       "  </thead>\n",
       "  <tbody>\n",
       "    <tr>\n",
       "      <th>0</th>\n",
       "      <td>0</td>\n",
       "      <td>WA</td>\n",
       "      <td>Olympia</td>\n",
       "      <td>NaN</td>\n",
       "      <td>Formation</td>\n",
       "      <td>14</td>\n",
       "      <td>11</td>\n",
       "      <td>1997</td>\n",
       "      <td>21</td>\n",
       "      <td>NaN</td>\n",
       "      <td>...</td>\n",
       "      <td>NaN</td>\n",
       "      <td>-0.080112</td>\n",
       "      <td>-2.461666</td>\n",
       "      <td>South</td>\n",
       "      <td>-0.867472</td>\n",
       "      <td>NaN</td>\n",
       "      <td>-0.357641</td>\n",
       "      <td>1.598872</td>\n",
       "      <td>NaN</td>\n",
       "      <td>Clear</td>\n",
       "    </tr>\n",
       "    <tr>\n",
       "      <th>1</th>\n",
       "      <td>1</td>\n",
       "      <td>WA</td>\n",
       "      <td>Olympia</td>\n",
       "      <td>NaN</td>\n",
       "      <td>Fireball</td>\n",
       "      <td>14</td>\n",
       "      <td>11</td>\n",
       "      <td>1997</td>\n",
       "      <td>21</td>\n",
       "      <td>NaN</td>\n",
       "      <td>...</td>\n",
       "      <td>NaN</td>\n",
       "      <td>-0.080112</td>\n",
       "      <td>-2.461666</td>\n",
       "      <td>South</td>\n",
       "      <td>-0.867472</td>\n",
       "      <td>NaN</td>\n",
       "      <td>-0.357641</td>\n",
       "      <td>1.598872</td>\n",
       "      <td>NaN</td>\n",
       "      <td>Clear</td>\n",
       "    </tr>\n",
       "    <tr>\n",
       "      <th>2</th>\n",
       "      <td>3</td>\n",
       "      <td>MD</td>\n",
       "      <td>Salisbury</td>\n",
       "      <td>NaN</td>\n",
       "      <td>Oval</td>\n",
       "      <td>24</td>\n",
       "      <td>11</td>\n",
       "      <td>1997</td>\n",
       "      <td>2</td>\n",
       "      <td>NaN</td>\n",
       "      <td>...</td>\n",
       "      <td>NaN</td>\n",
       "      <td>NaN</td>\n",
       "      <td>-0.493176</td>\n",
       "      <td>North</td>\n",
       "      <td>-0.464073</td>\n",
       "      <td>NaN</td>\n",
       "      <td>-0.911239</td>\n",
       "      <td>0.980525</td>\n",
       "      <td>NaN</td>\n",
       "      <td>Mostly Cloudy</td>\n",
       "    </tr>\n",
       "    <tr>\n",
       "      <th>3</th>\n",
       "      <td>4</td>\n",
       "      <td>MD</td>\n",
       "      <td>Salisbury</td>\n",
       "      <td>YELLOW</td>\n",
       "      <td>Oval</td>\n",
       "      <td>24</td>\n",
       "      <td>11</td>\n",
       "      <td>1997</td>\n",
       "      <td>2</td>\n",
       "      <td>NaN</td>\n",
       "      <td>...</td>\n",
       "      <td>NaN</td>\n",
       "      <td>NaN</td>\n",
       "      <td>-0.493176</td>\n",
       "      <td>North</td>\n",
       "      <td>-0.464073</td>\n",
       "      <td>NaN</td>\n",
       "      <td>-0.911239</td>\n",
       "      <td>0.980525</td>\n",
       "      <td>NaN</td>\n",
       "      <td>Mostly Cloudy</td>\n",
       "    </tr>\n",
       "    <tr>\n",
       "      <th>4</th>\n",
       "      <td>5</td>\n",
       "      <td>MS</td>\n",
       "      <td>Gulfport</td>\n",
       "      <td>NaN</td>\n",
       "      <td>Triangle</td>\n",
       "      <td>31</td>\n",
       "      <td>12</td>\n",
       "      <td>1997</td>\n",
       "      <td>17</td>\n",
       "      <td>NaN</td>\n",
       "      <td>...</td>\n",
       "      <td>NaN</td>\n",
       "      <td>NaN</td>\n",
       "      <td>2.868935</td>\n",
       "      <td>NNE</td>\n",
       "      <td>-0.968322</td>\n",
       "      <td>NaN</td>\n",
       "      <td>0.373899</td>\n",
       "      <td>-1.207476</td>\n",
       "      <td>NaN</td>\n",
       "      <td>Partly Cloudy</td>\n",
       "    </tr>\n",
       "    <tr>\n",
       "      <th>...</th>\n",
       "      <td>...</td>\n",
       "      <td>...</td>\n",
       "      <td>...</td>\n",
       "      <td>...</td>\n",
       "      <td>...</td>\n",
       "      <td>...</td>\n",
       "      <td>...</td>\n",
       "      <td>...</td>\n",
       "      <td>...</td>\n",
       "      <td>...</td>\n",
       "      <td>...</td>\n",
       "      <td>...</td>\n",
       "      <td>...</td>\n",
       "      <td>...</td>\n",
       "      <td>...</td>\n",
       "      <td>...</td>\n",
       "      <td>...</td>\n",
       "      <td>...</td>\n",
       "      <td>...</td>\n",
       "      <td>...</td>\n",
       "      <td>...</td>\n",
       "    </tr>\n",
       "    <tr>\n",
       "      <th>51825</th>\n",
       "      <td>51865</td>\n",
       "      <td>AZ</td>\n",
       "      <td>Prescott Valley</td>\n",
       "      <td>NaN</td>\n",
       "      <td>Circle</td>\n",
       "      <td>28</td>\n",
       "      <td>1</td>\n",
       "      <td>2000</td>\n",
       "      <td>20</td>\n",
       "      <td>57531.0</td>\n",
       "      <td>...</td>\n",
       "      <td>NaN</td>\n",
       "      <td>-0.192838</td>\n",
       "      <td>0.064273</td>\n",
       "      <td>South</td>\n",
       "      <td>-1.835629</td>\n",
       "      <td>NaN</td>\n",
       "      <td>-0.357641</td>\n",
       "      <td>-0.731823</td>\n",
       "      <td>NaN</td>\n",
       "      <td>Clear</td>\n",
       "    </tr>\n",
       "    <tr>\n",
       "      <th>51826</th>\n",
       "      <td>51866</td>\n",
       "      <td>CA</td>\n",
       "      <td>Covina</td>\n",
       "      <td>NaN</td>\n",
       "      <td>Light</td>\n",
       "      <td>27</td>\n",
       "      <td>1</td>\n",
       "      <td>2000</td>\n",
       "      <td>18</td>\n",
       "      <td>57536.0</td>\n",
       "      <td>...</td>\n",
       "      <td>NaN</td>\n",
       "      <td>NaN</td>\n",
       "      <td>-0.771900</td>\n",
       "      <td>North</td>\n",
       "      <td>NaN</td>\n",
       "      <td>NaN</td>\n",
       "      <td>-0.911239</td>\n",
       "      <td>NaN</td>\n",
       "      <td>NaN</td>\n",
       "      <td>Clear</td>\n",
       "    </tr>\n",
       "    <tr>\n",
       "      <th>51827</th>\n",
       "      <td>51867</td>\n",
       "      <td>WA</td>\n",
       "      <td>Seattle</td>\n",
       "      <td>NaN</td>\n",
       "      <td>Fireball</td>\n",
       "      <td>26</td>\n",
       "      <td>1</td>\n",
       "      <td>2000</td>\n",
       "      <td>19</td>\n",
       "      <td>57543.0</td>\n",
       "      <td>...</td>\n",
       "      <td>NaN</td>\n",
       "      <td>NaN</td>\n",
       "      <td>0.064273</td>\n",
       "      <td>North</td>\n",
       "      <td>-0.595177</td>\n",
       "      <td>NaN</td>\n",
       "      <td>-0.911239</td>\n",
       "      <td>0.790264</td>\n",
       "      <td>NaN</td>\n",
       "      <td>Mostly Cloudy</td>\n",
       "    </tr>\n",
       "    <tr>\n",
       "      <th>51828</th>\n",
       "      <td>51868</td>\n",
       "      <td>TX</td>\n",
       "      <td>Edinburg</td>\n",
       "      <td>NaN</td>\n",
       "      <td>Light</td>\n",
       "      <td>25</td>\n",
       "      <td>1</td>\n",
       "      <td>2000</td>\n",
       "      <td>19</td>\n",
       "      <td>57544.0</td>\n",
       "      <td>...</td>\n",
       "      <td>NaN</td>\n",
       "      <td>NaN</td>\n",
       "      <td>0.064273</td>\n",
       "      <td>ESE</td>\n",
       "      <td>0.635190</td>\n",
       "      <td>NaN</td>\n",
       "      <td>0.373899</td>\n",
       "      <td>0.171916</td>\n",
       "      <td>NaN</td>\n",
       "      <td>Overcast</td>\n",
       "    </tr>\n",
       "    <tr>\n",
       "      <th>51829</th>\n",
       "      <td>51869</td>\n",
       "      <td>NM</td>\n",
       "      <td>Rio Rancho</td>\n",
       "      <td>NaN</td>\n",
       "      <td>Sphere</td>\n",
       "      <td>23</td>\n",
       "      <td>1</td>\n",
       "      <td>2000</td>\n",
       "      <td>15</td>\n",
       "      <td>57549.0</td>\n",
       "      <td>...</td>\n",
       "      <td>NaN</td>\n",
       "      <td>NaN</td>\n",
       "      <td>0.064273</td>\n",
       "      <td>NW</td>\n",
       "      <td>-2.481068</td>\n",
       "      <td>-0.092084</td>\n",
       "      <td>0.917612</td>\n",
       "      <td>-2.539302</td>\n",
       "      <td>-0.640525</td>\n",
       "      <td>Clear</td>\n",
       "    </tr>\n",
       "  </tbody>\n",
       "</table>\n",
       "<p>51830 rows × 22 columns</p>\n",
       "</div>"
      ],
      "text/plain": [
       "       Unnamed: 0 state             city  colour      shape  mday  month  \\\n",
       "0               0    WA          Olympia     NaN  Formation    14     11   \n",
       "1               1    WA          Olympia     NaN   Fireball    14     11   \n",
       "2               3    MD        Salisbury     NaN       Oval    24     11   \n",
       "3               4    MD        Salisbury  YELLOW       Oval    24     11   \n",
       "4               5    MS         Gulfport     NaN   Triangle    31     12   \n",
       "...           ...   ...              ...     ...        ...   ...    ...   \n",
       "51825       51865    AZ  Prescott Valley     NaN     Circle    28      1   \n",
       "51826       51866    CA           Covina     NaN      Light    27      1   \n",
       "51827       51867    WA          Seattle     NaN   Fireball    26      1   \n",
       "51828       51868    TX         Edinburg     NaN      Light    25      1   \n",
       "51829       51869    NM       Rio Rancho     NaN     Sphere    23      1   \n",
       "\n",
       "       year  hour       id  ...  heatindex  windchill       vis  wdire  \\\n",
       "0      1997    21      NaN  ...        NaN  -0.080112 -2.461666  South   \n",
       "1      1997    21      NaN  ...        NaN  -0.080112 -2.461666  South   \n",
       "2      1997     2      NaN  ...        NaN        NaN -0.493176  North   \n",
       "3      1997     2      NaN  ...        NaN        NaN -0.493176  North   \n",
       "4      1997    17      NaN  ...        NaN        NaN  2.868935    NNE   \n",
       "...     ...   ...      ...  ...        ...        ...       ...    ...   \n",
       "51825  2000    20  57531.0  ...        NaN  -0.192838  0.064273  South   \n",
       "51826  2000    18  57536.0  ...        NaN        NaN -0.771900  North   \n",
       "51827  2000    19  57543.0  ...        NaN        NaN  0.064273  North   \n",
       "51828  2000    19  57544.0  ...        NaN        NaN  0.064273    ESE   \n",
       "51829  2000    15  57549.0  ...        NaN        NaN  0.064273     NW   \n",
       "\n",
       "          dewpt    precip      wspd       hum     wgust          conds  \n",
       "0     -0.867472       NaN -0.357641  1.598872       NaN          Clear  \n",
       "1     -0.867472       NaN -0.357641  1.598872       NaN          Clear  \n",
       "2     -0.464073       NaN -0.911239  0.980525       NaN  Mostly Cloudy  \n",
       "3     -0.464073       NaN -0.911239  0.980525       NaN  Mostly Cloudy  \n",
       "4     -0.968322       NaN  0.373899 -1.207476       NaN  Partly Cloudy  \n",
       "...         ...       ...       ...       ...       ...            ...  \n",
       "51825 -1.835629       NaN -0.357641 -0.731823       NaN          Clear  \n",
       "51826       NaN       NaN -0.911239       NaN       NaN          Clear  \n",
       "51827 -0.595177       NaN -0.911239  0.790264       NaN  Mostly Cloudy  \n",
       "51828  0.635190       NaN  0.373899  0.171916       NaN       Overcast  \n",
       "51829 -2.481068 -0.092084  0.917612 -2.539302 -0.640525          Clear  \n",
       "\n",
       "[51830 rows x 22 columns]"
      ]
     },
     "execution_count": 46,
     "metadata": {},
     "output_type": "execute_result"
    }
   ],
   "source": [
    "df3 = pd.read_csv(\"./df3.csv\")\n",
    "df3"
   ]
  },
  {
   "cell_type": "markdown",
   "id": "97af3ee2-e0da-4bb7-9f57-65b8abc7d288",
   "metadata": {},
   "source": [
    "O terceiro DataSet tambem conta com a maioria das colunas com dados categoricos. Escolhemos, 'state', 'city', 'colour', 'shape', 'mday', 'month', 'year', 'hour's ', 'con para obter a modao As variavies 'mday', 'month', 'year', 'hour' são dados quantitativos, então tiramos suas medias e medianas"
   ]
  },
  {
   "cell_type": "code",
   "execution_count": 47,
   "id": "fee64c42-d559-4547-9541-ed396994333d",
   "metadata": {},
   "outputs": [
    {
     "data": {
      "text/plain": [
       "0    CA\n",
       "Name: state, dtype: object"
      ]
     },
     "execution_count": 47,
     "metadata": {},
     "output_type": "execute_result"
    }
   ],
   "source": [
    "df3[\"state\"].mode()"
   ]
  },
  {
   "cell_type": "code",
   "execution_count": 48,
   "id": "979c3f19-7986-4c26-ab2c-dc7c594854a8",
   "metadata": {},
   "outputs": [],
   "source": [
    "g = df3[\"state\"].value_counts()"
   ]
  },
  {
   "cell_type": "code",
   "execution_count": 49,
   "id": "71d52dc0-a3be-4480-aa97-97c4e11b77ca",
   "metadata": {},
   "outputs": [
    {
     "data": {
      "text/plain": [
       "1016.2745098039215"
      ]
     },
     "execution_count": 49,
     "metadata": {},
     "output_type": "execute_result"
    }
   ],
   "source": [
    "g.mean()"
   ]
  },
  {
   "cell_type": "markdown",
   "id": "d5efbdaf-e5ee-4e61-b75f-33fbe4fe5138",
   "metadata": {},
   "source": [
    "Seguido o exemplo dos dataframes anteriores nesse terceiro, \"g\" recebe a frequencia  dos estados e tiramos a sua média, assim  obtemos a media de aparições por estado."
   ]
  },
  {
   "cell_type": "code",
   "execution_count": 50,
   "id": "0ae52588-b398-4546-92f5-810d493d3e53",
   "metadata": {},
   "outputs": [
    {
     "data": {
      "text/plain": [
       "0    Phoenix\n",
       "Name: city, dtype: object"
      ]
     },
     "execution_count": 50,
     "metadata": {},
     "output_type": "execute_result"
    }
   ],
   "source": [
    "df3[\"city\"].mode()"
   ]
  },
  {
   "cell_type": "code",
   "execution_count": 52,
   "id": "a0b7be3c-66cc-4783-8acd-e86af24f0b93",
   "metadata": {},
   "outputs": [],
   "source": [
    "h = df3[\"city\"].value_counts()"
   ]
  },
  {
   "cell_type": "code",
   "execution_count": 53,
   "id": "5c7d00b5-1841-4e54-b57f-22ffc4fef717",
   "metadata": {},
   "outputs": [
    {
     "data": {
      "text/plain": [
       "5.859807801017524"
      ]
     },
     "execution_count": 53,
     "metadata": {},
     "output_type": "execute_result"
    }
   ],
   "source": [
    "h.mean()"
   ]
  },
  {
   "cell_type": "markdown",
   "id": "05e2e015-0f6b-4544-92b1-7c9f86eaad30",
   "metadata": {},
   "source": [
    "Média de aparições por cidade do terceiro dataframe."
   ]
  },
  {
   "cell_type": "code",
   "execution_count": 54,
   "id": "05795695-caed-457a-ba19-bb2ff6c2967f",
   "metadata": {},
   "outputs": [
    {
     "data": {
      "text/plain": [
       "0    RED\n",
       "Name: colour, dtype: object"
      ]
     },
     "execution_count": 54,
     "metadata": {},
     "output_type": "execute_result"
    }
   ],
   "source": [
    "df3[\"colour\"].mode()"
   ]
  },
  {
   "cell_type": "code",
   "execution_count": 55,
   "id": "d3f1678a-22a2-48d9-899b-e11eda1cbdef",
   "metadata": {},
   "outputs": [
    {
     "data": {
      "text/plain": [
       "0    Light\n",
       "Name: shape, dtype: object"
      ]
     },
     "execution_count": 55,
     "metadata": {},
     "output_type": "execute_result"
    }
   ],
   "source": [
    "df3[\"shape\"].mode()"
   ]
  },
  {
   "cell_type": "code",
   "execution_count": 56,
   "id": "5df71d53-036a-458a-b2ff-908fe9ad4f51",
   "metadata": {},
   "outputs": [
    {
     "data": {
      "text/plain": [
       "0    Clear\n",
       "Name: conds, dtype: object"
      ]
     },
     "execution_count": 56,
     "metadata": {},
     "output_type": "execute_result"
    }
   ],
   "source": [
    "df3[\"conds\"].mode()"
   ]
  },
  {
   "cell_type": "markdown",
   "id": "de25ea0c-64cb-41e3-bfb4-c0bcb0d1d774",
   "metadata": {},
   "source": [
    "Como resultado o estado de mais aparições foi a Callifórnia(CA), a cidade foi Phoenix, a cor do objeto visto era \"verde\", tinha forma de \"luz\"e na maioria das aparições as condições do tempo estavam claras."
   ]
  },
  {
   "cell_type": "code",
   "execution_count": 57,
   "id": "7ffa720e-a1bc-4c1f-9bf5-4281bc516ece",
   "metadata": {},
   "outputs": [
    {
     "data": {
      "text/plain": [
       "0    2014\n",
       "Name: year, dtype: int64"
      ]
     },
     "execution_count": 57,
     "metadata": {},
     "output_type": "execute_result"
    }
   ],
   "source": [
    "df3[\"year\"].mode()"
   ]
  },
  {
   "cell_type": "code",
   "execution_count": 58,
   "id": "8daff6db-55f9-4520-b646-9628ea00106b",
   "metadata": {},
   "outputs": [
    {
     "data": {
      "text/plain": [
       "2009.4619332432953"
      ]
     },
     "execution_count": 58,
     "metadata": {},
     "output_type": "execute_result"
    }
   ],
   "source": [
    "df3[\"year\"].mean()"
   ]
  },
  {
   "cell_type": "code",
   "execution_count": 59,
   "id": "3c755d45-855a-43c5-b372-66f508b3304f",
   "metadata": {},
   "outputs": [
    {
     "data": {
      "text/plain": [
       "2011.0"
      ]
     },
     "execution_count": 59,
     "metadata": {},
     "output_type": "execute_result"
    }
   ],
   "source": [
    "df3[\"year\"].median()"
   ]
  },
  {
   "cell_type": "code",
   "execution_count": 48,
   "id": "b29bc19b-1b1f-4b8c-b2c8-f6d105b6b743",
   "metadata": {},
   "outputs": [
    {
     "data": {
      "text/plain": [
       "<Axes: >"
      ]
     },
     "execution_count": 48,
     "metadata": {},
     "output_type": "execute_result"
    }
   ],
   "source": [
    "datasetETs03.boxplot(column= \"year\")"
   ]
  },
  {
   "cell_type": "markdown",
   "id": "7c3f8ee6-8916-446b-a7e6-89a8c9af7c32",
   "metadata": {},
   "source": [
    "Nas variaveis quantitativas que obtivemos medidas de centralidade nos mostra que o ano que teve mais aparições foi em 2014, a media foi, aproximandamente, 2009 e a mediana 2011, observamos pelos numeros e pelo grafico que a uma harmonia na disperção dos dados"
   ]
  },
  {
   "cell_type": "code",
   "execution_count": 60,
   "id": "40298048-9e26-4462-955b-3429988cfcf7",
   "metadata": {},
   "outputs": [
    {
     "data": {
      "text/plain": [
       "0    7\n",
       "Name: month, dtype: int64"
      ]
     },
     "execution_count": 60,
     "metadata": {},
     "output_type": "execute_result"
    }
   ],
   "source": [
    "df3[\"month\"].mode()"
   ]
  },
  {
   "cell_type": "code",
   "execution_count": 61,
   "id": "8b623307-819d-4f3f-9b28-d893f10fcdba",
   "metadata": {},
   "outputs": [
    {
     "data": {
      "text/plain": [
       "6.892649044954659"
      ]
     },
     "execution_count": 61,
     "metadata": {},
     "output_type": "execute_result"
    }
   ],
   "source": [
    "df3[\"month\"].mean()"
   ]
  },
  {
   "cell_type": "code",
   "execution_count": 62,
   "id": "6bd827d9-3d2f-4a41-a002-551b5fe7ca98",
   "metadata": {},
   "outputs": [
    {
     "data": {
      "text/plain": [
       "7.0"
      ]
     },
     "execution_count": 62,
     "metadata": {},
     "output_type": "execute_result"
    }
   ],
   "source": [
    "df3[\"month\"].median()"
   ]
  },
  {
   "cell_type": "code",
   "execution_count": 63,
   "id": "6f0dc9d6-9426-43e6-91b5-e532d2b48f95",
   "metadata": {},
   "outputs": [
    {
     "data": {
      "text/plain": [
       "0    1\n",
       "Name: mday, dtype: int64"
      ]
     },
     "execution_count": 63,
     "metadata": {},
     "output_type": "execute_result"
    }
   ],
   "source": [
    "df3[\"mday\"].mode()"
   ]
  },
  {
   "cell_type": "code",
   "execution_count": 64,
   "id": "51a443b5-f23c-4288-b484-a4ea522b85cb",
   "metadata": {},
   "outputs": [
    {
     "data": {
      "text/plain": [
       "15.322265097433919"
      ]
     },
     "execution_count": 64,
     "metadata": {},
     "output_type": "execute_result"
    }
   ],
   "source": [
    "df3[\"mday\"].mean()"
   ]
  },
  {
   "cell_type": "code",
   "execution_count": 65,
   "id": "8e727822-463f-4d86-bf53-bc272e46ef7a",
   "metadata": {},
   "outputs": [
    {
     "data": {
      "text/plain": [
       "15.0"
      ]
     },
     "execution_count": 65,
     "metadata": {},
     "output_type": "execute_result"
    }
   ],
   "source": [
    "df3[\"mday\"].median()"
   ]
  },
  {
   "cell_type": "code",
   "execution_count": 66,
   "id": "080a88cb-7ae4-4f73-97cc-919350f99514",
   "metadata": {},
   "outputs": [
    {
     "data": {
      "text/plain": [
       "<Axes: >"
      ]
     },
     "execution_count": 66,
     "metadata": {},
     "output_type": "execute_result"
    }
   ],
   "source": [
    "df3.boxplot(column =\"mday\")"
   ]
  },
  {
   "cell_type": "markdown",
   "id": "62465c3a-8a0b-4338-ae9a-d861ebdfe47b",
   "metadata": {},
   "source": [
    "Na variaveis mês e dias: mês foi julho, a media foi 6,8..., fica entre junho e julho aproximadamente e a mediana foi julho, o dia foi 1, a media foi 15,32... e a mediana foi 15, tambem é possivel observar a harmonia dos dados de centralidade."
   ]
  },
  {
   "cell_type": "code",
   "execution_count": 67,
   "id": "97933cb7-c474-4e89-9a17-69882c69c041",
   "metadata": {},
   "outputs": [
    {
     "data": {
      "text/plain": [
       "0    21\n",
       "Name: hour, dtype: int64"
      ]
     },
     "execution_count": 67,
     "metadata": {},
     "output_type": "execute_result"
    }
   ],
   "source": [
    "df3[\"hour\"].mode()"
   ]
  },
  {
   "cell_type": "code",
   "execution_count": 68,
   "id": "79ce5d6b-9402-450f-a60f-7a4de8629e72",
   "metadata": {},
   "outputs": [
    {
     "data": {
      "text/plain": [
       "16.071039938259695"
      ]
     },
     "execution_count": 68,
     "metadata": {},
     "output_type": "execute_result"
    }
   ],
   "source": [
    "df3[\"hour\"].mean()"
   ]
  },
  {
   "cell_type": "code",
   "execution_count": 69,
   "id": "6e36d384-9081-47be-95b3-bd5e48b8f7dc",
   "metadata": {},
   "outputs": [
    {
     "data": {
      "text/plain": [
       "20.0"
      ]
     },
     "execution_count": 69,
     "metadata": {},
     "output_type": "execute_result"
    }
   ],
   "source": [
    "df3[\"hour\"].median()"
   ]
  },
  {
   "cell_type": "code",
   "execution_count": 70,
   "id": "589e604f-fd87-46c3-b008-be6f2e810f51",
   "metadata": {},
   "outputs": [
    {
     "data": {
      "text/plain": [
       "<Axes: >"
      ]
     },
     "execution_count": 70,
     "metadata": {},
     "output_type": "execute_result"
    }
   ],
   "source": [
    "df3.boxplot(column = \"hour\")"
   ]
  },
  {
   "cell_type": "markdown",
   "id": "c005cfba-e7c3-4d4b-9fe2-85c0a2f7b578",
   "metadata": {},
   "source": [
    "Na variavel hora houveram mais recorrencias de aparições as 21h, a media foi 16h e a mediana 20h."
   ]
  },
  {
   "cell_type": "markdown",
   "id": "79eb0064-46c4-4fa2-aae4-272636233d2f",
   "metadata": {},
   "source": [
    "Vai ser possivel ter uma melhor visualização desses dados com os graficos nas proximas etapas do projeto."
   ]
  },
  {
   "cell_type": "code",
   "execution_count": null,
   "id": "402d16f1-73fd-4fb9-9960-2d417ac8e483",
   "metadata": {},
   "outputs": [],
   "source": []
  }
 ],
 "metadata": {
  "kernelspec": {
   "display_name": "Python 3 (ipykernel)",
   "language": "python",
   "name": "python3"
  },
  "language_info": {
   "codemirror_mode": {
    "name": "ipython",
    "version": 3
   },
   "file_extension": ".py",
   "mimetype": "text/x-python",
   "name": "python",
   "nbconvert_exporter": "python",
   "pygments_lexer": "ipython3",
   "version": "3.11.4"
  }
 },
 "nbformat": 4,
 "nbformat_minor": 5
}
