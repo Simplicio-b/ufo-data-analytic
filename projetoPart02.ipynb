{
 "cells": [
  {
   "cell_type": "markdown",
   "id": "496e3b9f-78ff-408a-b957-dea03a894a9f",
   "metadata": {},
   "source": [
    "# Trabalho de ICD (Part.02): Atividades Extraterrestres\n",
    "*Professor: Yure Malheiros Alunos: Vitoria, Simplicio, Daiellem, Bruno*"
   ]
  },
  {
   "cell_type": "markdown",
   "id": "015ef11b-ca87-4be4-9e6a-fc42f00a0bf9",
   "metadata": {},
   "source": [
    "Na segunda parte do projeto de Introdução a Ciência de Dados nós temos por objetivo iniciar a analise exploratória dos dados. Analisamos nosso dataframe e calculamos as medidas de centralidades das variáveis disponíveis e em seguida criamos o boxplots das mesmas."
   ]
  },
  {
   "cell_type": "markdown",
   "id": "ac4c6dae-9045-49cb-b1b6-fc55c2573e7c",
   "metadata": {},
   "source": [
    "Importanto as bibliotecas que vamos precisar:"
   ]
  },
  {
   "cell_type": "code",
   "execution_count": 1,
   "id": "682a3440-1043-4a50-8344-bee4d9c859d3",
   "metadata": {},
   "outputs": [],
   "source": [
    "import pandas as pd"
   ]
  },
  {
   "cell_type": "code",
   "execution_count": 2,
   "id": "785fe9a1-5c1e-4dfe-9a31-fae51da6cd24",
   "metadata": {},
   "outputs": [],
   "source": [
    "import numpy as np"
   ]
  },
  {
   "cell_type": "code",
   "execution_count": 3,
   "id": "603823c2-19b8-4bf6-a2d3-39d94950321c",
   "metadata": {},
   "outputs": [],
   "source": [
    "import seaborn as sns"
   ]
  },
  {
   "cell_type": "code",
   "execution_count": 4,
   "id": "fe34cb0e-7363-4ead-a6f3-bdf125bfd5ed",
   "metadata": {},
   "outputs": [],
   "source": [
    "import matplotlib.pyplot as plt"
   ]
  },
  {
   "cell_type": "markdown",
   "id": "05b01b2b-c290-4077-a161-df2694378edf",
   "metadata": {},
   "source": [
    "Importamos inicialmente três DataSets para observações."
   ]
  },
  {
   "cell_type": "code",
   "execution_count": 5,
   "id": "aee385a4-32ae-43f1-8a81-2364eee11881",
   "metadata": {},
   "outputs": [],
   "source": [
    "datasetETs01 = pd.read_csv(\"./ufo_data_nuforc.csv\")"
   ]
  },
  {
   "cell_type": "markdown",
   "id": "102bb034-6420-4d1e-b714-95a75023c844",
   "metadata": {},
   "source": [
    "[Fonte](https://www.kaggle.com/datasets/joebeachcapital/ufo-sightings)"
   ]
  },
  {
   "cell_type": "markdown",
   "id": "8cc1d0d2-416e-42c3-9fdd-bf0638dddc7a",
   "metadata": {},
   "source": [
    "O primeiro DataSet tem a maioria das colunas com dados categoricos. Escolhemos, por relevancia, três variáveis de dados categoricos, \"city\", \"state\" e \"shape\", para tirar a medida de centralidade mais indicada para esse tipo de dado, a moda."
   ]
  },
  {
   "cell_type": "code",
   "execution_count": 6,
   "id": "3e1fd133-be0a-41c0-8dbc-fb1d4a9ecda0",
   "metadata": {},
   "outputs": [
    {
     "data": {
      "text/plain": [
       "0    Las Vegas\n",
       "Name: city, dtype: object"
      ]
     },
     "execution_count": 6,
     "metadata": {},
     "output_type": "execute_result"
    }
   ],
   "source": [
    "datasetETs01[\"city\"].mode()"
   ]
  },
  {
   "cell_type": "code",
   "execution_count": 7,
   "id": "684abdb0-d10f-4056-97e9-3d67f9c8d85d",
   "metadata": {},
   "outputs": [],
   "source": [
    "a = datasetETs01[\"city\"].value_counts()"
   ]
  },
  {
   "cell_type": "code",
   "execution_count": 8,
   "id": "45098f18-e3f0-4fa1-898d-732d1393435e",
   "metadata": {},
   "outputs": [
    {
     "data": {
      "text/plain": [
       "1.384858044164038"
      ]
     },
     "execution_count": 8,
     "metadata": {},
     "output_type": "execute_result"
    }
   ],
   "source": [
    "a.mean()"
   ]
  },
  {
   "cell_type": "markdown",
   "id": "02e044a9-86dc-4d7b-8163-777ae6a3740e",
   "metadata": {},
   "source": [
    "Usei o \".value_counts()\" para contar a frenquência de cada cidade contida no DataFrame e atribuie os valores a variavel \"a\", assim obtemos a média de aparições por cidade."
   ]
  },
  {
   "cell_type": "code",
   "execution_count": 9,
   "id": "4ab9ecb4-61c5-4fff-b743-737a00f36470",
   "metadata": {},
   "outputs": [
    {
     "data": {
      "text/plain": [
       "0    FL\n",
       "Name: state, dtype: object"
      ]
     },
     "execution_count": 9,
     "metadata": {},
     "output_type": "execute_result"
    }
   ],
   "source": [
    "datasetETs01[\"state\"].mode()"
   ]
  },
  {
   "cell_type": "code",
   "execution_count": 10,
   "id": "f186c5bc-254c-48de-ad3f-26e19e1de94d",
   "metadata": {},
   "outputs": [],
   "source": [
    "b = datasetETs01[\"state\"].value_counts()"
   ]
  },
  {
   "cell_type": "code",
   "execution_count": 11,
   "id": "97bfb383-49f0-46a0-97f2-b3ac55c6d932",
   "metadata": {},
   "outputs": [
    {
     "data": {
      "text/plain": [
       "25.823529411764707"
      ]
     },
     "execution_count": 11,
     "metadata": {},
     "output_type": "execute_result"
    }
   ],
   "source": [
    "b.mean()"
   ]
  },
  {
   "cell_type": "markdown",
   "id": "70402169-14c5-4f83-ba05-5cd5d8bb5a86",
   "metadata": {},
   "source": [
    "Usei o mesmo esquema para saber a media de aparições por estado."
   ]
  },
  {
   "cell_type": "code",
   "execution_count": 12,
   "id": "ad0140e7-5b94-42f6-a0c1-ad35abd3dbd8",
   "metadata": {},
   "outputs": [
    {
     "data": {
      "text/plain": [
       "0    Circle\n",
       "Name: shape, dtype: object"
      ]
     },
     "execution_count": 12,
     "metadata": {},
     "output_type": "execute_result"
    }
   ],
   "source": [
    "datasetETs01[\"shape\"].mode()"
   ]
  },
  {
   "cell_type": "markdown",
   "id": "dd936afa-c19a-424c-b897-565ac12d742a",
   "metadata": {},
   "source": [
    "\n",
    "Com essas medidas de centralidade obtemos alguns dados importantes a cidade(city) que mais teve aparições foi Las Vegas, o estado foi a Florida(FL) e o formato mais obsevado nas aparições foi circular.\n"
   ]
  },
  {
   "cell_type": "markdown",
   "id": "9c71ccfa-6a1b-4dc8-b0b0-1997bc8e586a",
   "metadata": {},
   "source": [
    "As variaveis \"date\" e \"time\", apesar de terem numeros ainda, não são classificadas como dados quantitativos, pois não são inteiramente numericos, vai ser necessario fazer um tratamento antes de fazer outras medidas de centralidade, por enquanto pode se tirar a moda."
   ]
  },
  {
   "cell_type": "code",
   "execution_count": 13,
   "id": "6a68b753-e8ac-43bf-9190-e6175cf87c42",
   "metadata": {},
   "outputs": [
    {
     "data": {
      "text/plain": [
       "0    09/24/22\n",
       "Name: date, dtype: object"
      ]
     },
     "execution_count": 13,
     "metadata": {},
     "output_type": "execute_result"
    }
   ],
   "source": [
    "datasetETs01[\"date\"].mode()"
   ]
  },
  {
   "cell_type": "code",
   "execution_count": 14,
   "id": "683e22fd-89c0-4be4-9b02-40858dc88cf2",
   "metadata": {},
   "outputs": [
    {
     "data": {
      "text/plain": [
       "0    21:00:00\n",
       "1    22:00:00\n",
       "Name: time, dtype: object"
      ]
     },
     "execution_count": 14,
     "metadata": {},
     "output_type": "execute_result"
    }
   ],
   "source": [
    "datasetETs01[\"time\"].mode()"
   ]
  },
  {
   "cell_type": "markdown",
   "id": "c45c28bb-3705-430e-9fa3-da14aeb90c51",
   "metadata": {},
   "source": [
    "Agora observamos que a data que teve mais aparições foi no dia 24 de Setembro de 2022 e as horas mais recorrentes de aparições foram as 21h e tambem as 22h"
   ]
  },
  {
   "cell_type": "markdown",
   "id": "48370644-8e00-408f-bc79-083d54defeee",
   "metadata": {},
   "source": [
    "Na variaviel \"population\" foi possivel obter as 3 medidas de centralidade. Obtivemos a média da população das cidades onde teve aparições, a mediana e a moda. Foi possivel observa a discrepância em relação a media e a mediana, isso pode ser obervado no Boxplot como tem muitos Outliers"
   ]
  },
  {
   "cell_type": "code",
   "execution_count": 15,
   "id": "73621df6-b6b3-4422-b7c9-8e153b68fe2e",
   "metadata": {},
   "outputs": [
    {
     "data": {
      "text/plain": [
       "0    2150373\n",
       "Name: population, dtype: int64"
      ]
     },
     "execution_count": 15,
     "metadata": {},
     "output_type": "execute_result"
    }
   ],
   "source": [
    "datasetETs01[\"population\"].mode()"
   ]
  },
  {
   "cell_type": "code",
   "execution_count": 16,
   "id": "2b125b25-2266-4e74-8aa1-28c135737438",
   "metadata": {},
   "outputs": [
    {
     "data": {
      "text/plain": [
       "558924.8762338648"
      ]
     },
     "execution_count": 16,
     "metadata": {},
     "output_type": "execute_result"
    }
   ],
   "source": [
    "datasetETs01[\"population\"].mean()"
   ]
  },
  {
   "cell_type": "code",
   "execution_count": 17,
   "id": "ab992c9e-e131-402b-9933-e7793e1d6962",
   "metadata": {},
   "outputs": [
    {
     "data": {
      "text/plain": [
       "37871.0"
      ]
     },
     "execution_count": 17,
     "metadata": {},
     "output_type": "execute_result"
    }
   ],
   "source": [
    "datasetETs01[\"population\"].median()"
   ]
  },
  {
   "cell_type": "code",
   "execution_count": 18,
   "id": "2e564650-e560-4906-b882-8a852eed4ada",
   "metadata": {},
   "outputs": [
    {
     "data": {
      "text/plain": [
       "<Axes: >"
      ]
     },
     "execution_count": 18,
     "metadata": {},
     "output_type": "execute_result"
    },
    {
     "data": {
      "image/png": "[encoded data removed]",
      "text/plain": [
       "<Figure size 640x480 with 1 Axes>"
      ]
     },
     "metadata": {},
     "output_type": "display_data"
    }
   ],
   "source": [
    "datasetETs01.boxplot(column= \"population\")"
   ]
  },
  {
   "cell_type": "code",
   "execution_count": 19,
   "id": "14fa993d-6b5e-4591-a730-5929754a7041",
   "metadata": {},
   "outputs": [],
   "source": [
    "datasetETs02 = pd.read_csv(\"./datasetETs.csv\", low_memory=False)"
   ]
  },
  {
   "cell_type": "markdown",
   "id": "88b8faf4-8f9d-46cc-a880-03d1068b3ad7",
   "metadata": {},
   "source": [
    "[Fonte](https://www.kaggle.com/datasets/camnugent/ufo-sightings-around-the-world)"
   ]
  },
  {
   "cell_type": "markdown",
   "id": "3e3c5aa1-ea31-44ab-8955-624938453248",
   "metadata": {},
   "source": [
    "O segundo DataSet tambem conta com a maioria das colunas com dados categoricos. Escolhemos, por relevancia, 'Date_time', 'city', 'state/province', 'country', 'UFO_shape'', 'descriptiod' e 'length_of_encounter_seconds' para tirar a moda.\r\n",
    "\r\n"
   ]
  },
  {
   "cell_type": "code",
   "execution_count": 20,
   "id": "01ae3aee-92c3-432c-b742-c8aa76c938d5",
   "metadata": {},
   "outputs": [
    {
     "data": {
      "text/plain": [
       "0    7/4/2010 22:00\n",
       "Name: Date_time, dtype: object"
      ]
     },
     "execution_count": 20,
     "metadata": {},
     "output_type": "execute_result"
    }
   ],
   "source": [
    "datasetETs02[\"Date_time\"].mode()"
   ]
  },
  {
   "cell_type": "code",
   "execution_count": 21,
   "id": "be68f7cc-f2f0-45ea-bef3-2f6808d5e0e4",
   "metadata": {},
   "outputs": [
    {
     "data": {
      "text/plain": [
       "0    seattle\n",
       "Name: city, dtype: object"
      ]
     },
     "execution_count": 21,
     "metadata": {},
     "output_type": "execute_result"
    }
   ],
   "source": [
    "datasetETs02[\"city\"].mode()"
   ]
  },
  {
   "cell_type": "code",
   "execution_count": 22,
   "id": "2449d9fc-5a21-4f12-a75c-5713aa131568",
   "metadata": {},
   "outputs": [],
   "source": [
    "d = datasetETs02[\"city\"].value_counts()"
   ]
  },
  {
   "cell_type": "code",
   "execution_count": 23,
   "id": "814ae2cb-ddcb-4ac2-af8e-10c98a4c5504",
   "metadata": {},
   "outputs": [
    {
     "data": {
      "text/plain": [
       "4.0367839195979895"
      ]
     },
     "execution_count": 23,
     "metadata": {},
     "output_type": "execute_result"
    }
   ],
   "source": [
    "d.mean()"
   ]
  },
  {
   "cell_type": "markdown",
   "id": "e00980dc-5aca-4292-9fff-1c193e3e9e85",
   "metadata": {},
   "source": [
    "Usei o mesmo esquema do primeiro dataframe para obter a média de aparições por cidades."
   ]
  },
  {
   "cell_type": "code",
   "execution_count": 24,
   "id": "517c88b4-07d3-4796-8b84-b023625d07e7",
   "metadata": {},
   "outputs": [
    {
     "data": {
      "text/plain": [
       "0    ca\n",
       "Name: state/province, dtype: object"
      ]
     },
     "execution_count": 24,
     "metadata": {},
     "output_type": "execute_result"
    }
   ],
   "source": [
    "datasetETs02[\"state/province\"].mode()"
   ]
  },
  {
   "cell_type": "code",
   "execution_count": 25,
   "id": "af2a3c99-565d-43fc-a4f3-ef1d2073f0bd",
   "metadata": {},
   "outputs": [],
   "source": [
    "e = datasetETs02[\"state/province\"].value_counts()"
   ]
  },
  {
   "cell_type": "code",
   "execution_count": 26,
   "id": "5a21e91f-4d9e-4cc6-baf2-8f580e92f13b",
   "metadata": {},
   "outputs": [
    {
     "data": {
      "text/plain": [
       "1112.4626865671642"
      ]
     },
     "execution_count": 26,
     "metadata": {},
     "output_type": "execute_result"
    }
   ],
   "source": [
    "e.mean()"
   ]
  },
  {
   "cell_type": "markdown",
   "id": "611ab2ef-bf27-488f-8b72-0bb45d970931",
   "metadata": {},
   "source": [
    "Aqui \"e\" recebe a frequencia de aparições por estado, assim tiramos a média dessa variavel e obtemos a media de aparição por estados."
   ]
  },
  {
   "cell_type": "code",
   "execution_count": 27,
   "id": "52f0a5a6-7c6c-4391-80df-f240e4168e55",
   "metadata": {},
   "outputs": [
    {
     "data": {
      "text/plain": [
       "0    us\n",
       "Name: country, dtype: object"
      ]
     },
     "execution_count": 27,
     "metadata": {},
     "output_type": "execute_result"
    }
   ],
   "source": [
    "datasetETs02[\"country\"].mode()"
   ]
  },
  {
   "cell_type": "code",
   "execution_count": 28,
   "id": "02be28f7-751a-4510-835f-cb21c9e736d5",
   "metadata": {},
   "outputs": [],
   "source": [
    "f = datasetETs02[\"country\"].value_counts()"
   ]
  },
  {
   "cell_type": "code",
   "execution_count": 29,
   "id": "394ff8bd-6b12-4afd-ac37-4a25cf32e3db",
   "metadata": {},
   "outputs": [
    {
     "data": {
      "text/plain": [
       "14132.4"
      ]
     },
     "execution_count": 29,
     "metadata": {},
     "output_type": "execute_result"
    }
   ],
   "source": [
    "f.mean()"
   ]
  },
  {
   "cell_type": "markdown",
   "id": "0e3248aa-2e46-451a-af0d-8f8c63c24503",
   "metadata": {},
   "source": [
    "Aqui temos a media por país."
   ]
  },
  {
   "cell_type": "code",
   "execution_count": 30,
   "id": "10b11b82-ded1-4d6d-a9fe-224d92fa38e5",
   "metadata": {},
   "outputs": [
    {
     "data": {
      "text/plain": [
       "0    light\n",
       "Name: UFO_shape, dtype: object"
      ]
     },
     "execution_count": 30,
     "metadata": {},
     "output_type": "execute_result"
    }
   ],
   "source": [
    "datasetETs02[\"UFO_shape\"].mode()"
   ]
  },
  {
   "cell_type": "code",
   "execution_count": 31,
   "id": "04d4ffb9-465d-47c7-95e6-f00b5b902422",
   "metadata": {},
   "outputs": [
    {
     "data": {
      "text/plain": [
       "0    Fireball\n",
       "Name: description, dtype: object"
      ]
     },
     "execution_count": 31,
     "metadata": {},
     "output_type": "execute_result"
    }
   ],
   "source": [
    "datasetETs02[\"description\"].mode()"
   ]
  },
  {
   "cell_type": "code",
   "execution_count": 32,
   "id": "1e314b86-9e1f-443b-98f6-ec0e8a07e933",
   "metadata": {},
   "outputs": [
    {
     "data": {
      "text/plain": [
       "0    300\n",
       "Name: length_of_encounter_seconds, dtype: object"
      ]
     },
     "execution_count": 32,
     "metadata": {},
     "output_type": "execute_result"
    }
   ],
   "source": [
    "datasetETs02[\"length_of_encounter_seconds\"].mode()"
   ]
  },
  {
   "cell_type": "markdown",
   "id": "db4b3bf6-771f-4e06-b32b-405f4247cfb9",
   "metadata": {},
   "source": [
    "Asssim obtivemos que a data e a hora que mais houveram aparições foi no dia 7/4/2010 as 22:00h, aqui nós temos o intuito de tratar essa varaivel para separar os valores para obter dados mais detalhados. A cidade que teve mais aparições foi o seattle, o estado foi a Callifórnia(CA), o pais com mais aparições foi o Estados Unidos, a forma mais observada do OVNI foi \"luz\", a descrição mais recorrente foi uma \"bola de fogo\" e a maioria das aparições foi de 300 segundos.\n",
    "Na variave \"length_of_encounter_seconds\" tentamos tirar a media e a mediana, mas a variavel não se encontrava com valor numerico, assim temos o objetivo de trata-la para futuras observações. "
   ]
  },
  {
   "cell_type": "code",
   "execution_count": 33,
   "id": "5380a3a1-5af4-4d20-ad10-e7477ce1cb77",
   "metadata": {},
   "outputs": [],
   "source": [
    "datasetETs03 = pd.read_csv(\"./consolidated_weather_V03.csv\")"
   ]
  },
  {
   "cell_type": "markdown",
   "id": "ce9368c0-3e93-4f0d-b69a-af1ec1f3be7e",
   "metadata": {},
   "source": [
    "[Fonte](https://www.kaggle.com/datasets/emorelli/consolidated-ufo-weather-data)"
   ]
  },
  {
   "cell_type": "markdown",
   "id": "97af3ee2-e0da-4bb7-9f57-65b8abc7d288",
   "metadata": {},
   "source": [
    "O terceiro DataSet tambem conta com a maioria das colunas com dados categoricos. Escolhemos, 'state', 'city', 'colour', 'shape', 'mday', 'month', 'year', 'hour's ', 'con paradobter a modao As variavies 'mday', 'month', 'year', 'hour' são dados quantitativos, então tiramos suas medias e medianas.da."
   ]
  },
  {
   "cell_type": "code",
   "execution_count": 34,
   "id": "fee64c42-d559-4547-9541-ed396994333d",
   "metadata": {},
   "outputs": [
    {
     "data": {
      "text/plain": [
       "0    CA\n",
       "Name: state, dtype: object"
      ]
     },
     "execution_count": 34,
     "metadata": {},
     "output_type": "execute_result"
    }
   ],
   "source": [
    "datasetETs03[\"state\"].mode()"
   ]
  },
  {
   "cell_type": "code",
   "execution_count": 35,
   "id": "979c3f19-7986-4c26-ab2c-dc7c594854a8",
   "metadata": {},
   "outputs": [],
   "source": [
    "g = datasetETs03[\"state\"].value_counts()"
   ]
  },
  {
   "cell_type": "code",
   "execution_count": 36,
   "id": "71d52dc0-a3be-4480-aa97-97c4e11b77ca",
   "metadata": {},
   "outputs": [
    {
     "data": {
      "text/plain": [
       "1017.0588235294117"
      ]
     },
     "execution_count": 36,
     "metadata": {},
     "output_type": "execute_result"
    }
   ],
   "source": [
    "g.mean()"
   ]
  },
  {
   "cell_type": "markdown",
   "id": "d5efbdaf-e5ee-4e61-b75f-33fbe4fe5138",
   "metadata": {},
   "source": [
    "Seguido o exemplo dos dataframes anteriores nesse terceiro, \"g\" recebe a frequencia  dos estados e tiramos a sua média, assim  obtemos a media de aparições por estado."
   ]
  },
  {
   "cell_type": "code",
   "execution_count": 37,
   "id": "0ae52588-b398-4546-92f5-810d493d3e53",
   "metadata": {},
   "outputs": [
    {
     "data": {
      "text/plain": [
       "0    Phoenix\n",
       "Name: city, dtype: object"
      ]
     },
     "execution_count": 37,
     "metadata": {},
     "output_type": "execute_result"
    }
   ],
   "source": [
    "datasetETs03[\"city\"].mode()"
   ]
  },
  {
   "cell_type": "code",
   "execution_count": 38,
   "id": "a0b7be3c-66cc-4783-8acd-e86af24f0b93",
   "metadata": {},
   "outputs": [],
   "source": [
    "h = datasetETs03[\"city\"].value_counts()"
   ]
  },
  {
   "cell_type": "code",
   "execution_count": 39,
   "id": "5c7d00b5-1841-4e54-b57f-22ffc4fef717",
   "metadata": {},
   "outputs": [
    {
     "data": {
      "text/plain": [
       "5.864330130016959"
      ]
     },
     "execution_count": 39,
     "metadata": {},
     "output_type": "execute_result"
    }
   ],
   "source": [
    "h.mean()"
   ]
  },
  {
   "cell_type": "markdown",
   "id": "05e2e015-0f6b-4544-92b1-7c9f86eaad30",
   "metadata": {},
   "source": [
    "Média de aparições por cidade do terceiro dataframe."
   ]
  },
  {
   "cell_type": "code",
   "execution_count": 40,
   "id": "05795695-caed-457a-ba19-bb2ff6c2967f",
   "metadata": {},
   "outputs": [
    {
     "data": {
      "text/plain": [
       "0    RED\n",
       "Name: colour, dtype: object"
      ]
     },
     "execution_count": 40,
     "metadata": {},
     "output_type": "execute_result"
    }
   ],
   "source": [
    "datasetETs03[\"colour\"].mode()"
   ]
  },
  {
   "cell_type": "code",
   "execution_count": 41,
   "id": "d3f1678a-22a2-48d9-899b-e11eda1cbdef",
   "metadata": {},
   "outputs": [
    {
     "data": {
      "text/plain": [
       "0    Light\n",
       "Name: shape, dtype: object"
      ]
     },
     "execution_count": 41,
     "metadata": {},
     "output_type": "execute_result"
    }
   ],
   "source": [
    "datasetETs03[\"shape\"].mode()"
   ]
  },
  {
   "cell_type": "code",
   "execution_count": 42,
   "id": "5df71d53-036a-458a-b2ff-908fe9ad4f51",
   "metadata": {},
   "outputs": [
    {
     "data": {
      "text/plain": [
       "0    Clear\n",
       "Name: conds, dtype: object"
      ]
     },
     "execution_count": 42,
     "metadata": {},
     "output_type": "execute_result"
    }
   ],
   "source": [
    "datasetETs03[\"conds\"].mode()"
   ]
  },
  {
   "cell_type": "markdown",
   "id": "de25ea0c-64cb-41e3-bfb4-c0bcb0d1d774",
   "metadata": {},
   "source": [
    "Como resultado o estado de mais aparições foi a Callifórnia(CA), a cidade foi Phoenix, a cor do objeto visto era \"verde\", tinha forma de \"luz\"e na maioria das aparições as condições do tempo estavam claras."
   ]
  },
  {
   "cell_type": "code",
   "execution_count": 43,
   "id": "7ffa720e-a1bc-4c1f-9bf5-4281bc516ece",
   "metadata": {},
   "outputs": [
    {
     "data": {
      "text/plain": [
       "0    2014\n",
       "Name: year, dtype: int64"
      ]
     },
     "execution_count": 43,
     "metadata": {},
     "output_type": "execute_result"
    }
   ],
   "source": [
    "datasetETs03[\"year\"].mode()"
   ]
  },
  {
   "cell_type": "code",
   "execution_count": 44,
   "id": "8daff6db-55f9-4520-b646-9628ea00106b",
   "metadata": {},
   "outputs": [
    {
     "data": {
      "text/plain": [
       "2009.4538268748795"
      ]
     },
     "execution_count": 44,
     "metadata": {},
     "output_type": "execute_result"
    }
   ],
   "source": [
    "datasetETs03[\"year\"].mean()"
   ]
  },
  {
   "cell_type": "code",
   "execution_count": 45,
   "id": "3c755d45-855a-43c5-b372-66f508b3304f",
   "metadata": {},
   "outputs": [
    {
     "data": {
      "text/plain": [
       "2011.0"
      ]
     },
     "execution_count": 45,
     "metadata": {},
     "output_type": "execute_result"
    }
   ],
   "source": [
    "datasetETs03[\"year\"].median()"
   ]
  },
  {
   "cell_type": "code",
   "execution_count": 48,
   "id": "b29bc19b-1b1f-4b8c-b2c8-f6d105b6b743",
   "metadata": {},
   "outputs": [
    {
     "data": {
      "text/plain": [
       "<Axes: >"
      ]
     },
     "execution_count": 48,
     "metadata": {},
     "output_type": "execute_result"
    }
   ],
   "source": [
    "datasetETs03.boxplot(column= \"year\")"
   ]
  },
  {
   "cell_type": "markdown",
   "id": "7c3f8ee6-8916-446b-a7e6-89a8c9af7c32",
   "metadata": {},
   "source": [
    "Nas variaveis quantitativas que obtivemos medidas de centralidade nos mostra que o ano que teve mais aparições foi em 2014, a media foi, aproximandamente, 2009 e a mediana 2011, observamos pelos numeros e pelo grafico que a uma harmonia na disperção dos dados"
   ]
  },
  {
   "cell_type": "code",
   "execution_count": 49,
   "id": "40298048-9e26-4462-955b-3429988cfcf7",
   "metadata": {},
   "outputs": [
    {
     "data": {
      "text/plain": [
       "0    7\n",
       "Name: month, dtype: int64"
      ]
     },
     "execution_count": 49,
     "metadata": {},
     "output_type": "execute_result"
    }
   ],
   "source": [
    "datasetETs03[\"month\"].mode()"
   ]
  },
  {
   "cell_type": "code",
   "execution_count": 50,
   "id": "8b623307-819d-4f3f-9b28-d893f10fcdba",
   "metadata": {},
   "outputs": [
    {
     "data": {
      "text/plain": [
       "6.894351262772315"
      ]
     },
     "execution_count": 50,
     "metadata": {},
     "output_type": "execute_result"
    }
   ],
   "source": [
    "datasetETs03[\"month\"].mean()"
   ]
  },
  {
   "cell_type": "code",
   "execution_count": 51,
   "id": "6bd827d9-3d2f-4a41-a002-551b5fe7ca98",
   "metadata": {},
   "outputs": [
    {
     "data": {
      "text/plain": [
       "7.0"
      ]
     },
     "execution_count": 51,
     "metadata": {},
     "output_type": "execute_result"
    }
   ],
   "source": [
    "datasetETs03[\"month\"].median()"
   ]
  },
  {
   "cell_type": "code",
   "execution_count": 52,
   "id": "6f0dc9d6-9426-43e6-91b5-e532d2b48f95",
   "metadata": {},
   "outputs": [
    {
     "data": {
      "text/plain": [
       "0    1\n",
       "Name: mday, dtype: int64"
      ]
     },
     "execution_count": 52,
     "metadata": {},
     "output_type": "execute_result"
    }
   ],
   "source": [
    "datasetETs03[\"mday\"].mode()"
   ]
  },
  {
   "cell_type": "code",
   "execution_count": 53,
   "id": "51a443b5-f23c-4288-b484-a4ea522b85cb",
   "metadata": {},
   "outputs": [
    {
     "data": {
      "text/plain": [
       "15.322749180643918"
      ]
     },
     "execution_count": 53,
     "metadata": {},
     "output_type": "execute_result"
    }
   ],
   "source": [
    "datasetETs03[\"mday\"].mean()"
   ]
  },
  {
   "cell_type": "code",
   "execution_count": 54,
   "id": "8e727822-463f-4d86-bf53-bc272e46ef7a",
   "metadata": {},
   "outputs": [
    {
     "data": {
      "text/plain": [
       "15.0"
      ]
     },
     "execution_count": 54,
     "metadata": {},
     "output_type": "execute_result"
    }
   ],
   "source": [
    "datasetETs03[\"mday\"].median()"
   ]
  },
  {
   "cell_type": "code",
   "execution_count": 55,
   "id": "080a88cb-7ae4-4f73-97cc-919350f99514",
   "metadata": {},
   "outputs": [
    {
     "data": {
      "text/plain": [
       "<Axes: >"
      ]
     },
     "execution_count": 55,
     "metadata": {},
     "output_type": "execute_result"
    }
   ],
   "source": [
    "datasetETs03.boxplot(column =\"mday\")"
   ]
  },
  {
   "cell_type": "markdown",
   "id": "62465c3a-8a0b-4338-ae9a-d861ebdfe47b",
   "metadata": {},
   "source": [
    "Na variaveis mês e dias: mês foi julho, a media foi 6,8..., fica entre junho e julho aproximadamente e a mediana foi julho, o dia foi 1, a media foi 15,32... e a mediana foi 15, tambem é possivel observar a harmonia dos dados de centralidade."
   ]
  },
  {
   "cell_type": "code",
   "execution_count": 56,
   "id": "97933cb7-c474-4e89-9a17-69882c69c041",
   "metadata": {},
   "outputs": [
    {
     "data": {
      "text/plain": [
       "0    21\n",
       "Name: hour, dtype: int64"
      ]
     },
     "execution_count": 56,
     "metadata": {},
     "output_type": "execute_result"
    }
   ],
   "source": [
    "datasetETs03[\"hour\"].mode()"
   ]
  },
  {
   "cell_type": "code",
   "execution_count": 57,
   "id": "79ce5d6b-9402-450f-a60f-7a4de8629e72",
   "metadata": {},
   "outputs": [
    {
     "data": {
      "text/plain": [
       "16.072527472527472"
      ]
     },
     "execution_count": 57,
     "metadata": {},
     "output_type": "execute_result"
    }
   ],
   "source": [
    "datasetETs03[\"hour\"].mean()"
   ]
  },
  {
   "cell_type": "code",
   "execution_count": 58,
   "id": "6e36d384-9081-47be-95b3-bd5e48b8f7dc",
   "metadata": {},
   "outputs": [
    {
     "data": {
      "text/plain": [
       "20.0"
      ]
     },
     "execution_count": 58,
     "metadata": {},
     "output_type": "execute_result"
    }
   ],
   "source": [
    "datasetETs03[\"hour\"].median()"
   ]
  },
  {
   "cell_type": "code",
   "execution_count": 59,
   "id": "589e604f-fd87-46c3-b008-be6f2e810f51",
   "metadata": {},
   "outputs": [
    {
     "data": {
      "text/plain": [
       "<Axes: >"
      ]
     },
     "execution_count": 59,
     "metadata": {},
     "output_type": "execute_result"
    }
   ],
   "source": [
    "datasetETs03.boxplot(column = \"hour\")"
   ]
  },
  {
   "cell_type": "markdown",
   "id": "c005cfba-e7c3-4d4b-9fe2-85c0a2f7b578",
   "metadata": {},
   "source": [
    "Na variavel hora houveram mais recorrencias de aparições as 21h, a media foi 16h e a mediana 20h."
   ]
  },
  {
   "cell_type": "markdown",
   "id": "1e1fb543-0f2d-42fd-abda-6d6837615b22",
   "metadata": {},
   "source": [
    "As outras variavies que tem valores quantitativos são dados climaticos, que nesse momento não são relevantes suas medidas de centralidades. "
   ]
  }
 ],
 "metadata": {
  "kernelspec": {
   "display_name": "Python 3 (ipykernel)",
   "language": "python",
   "name": "python3"
  },
  "language_info": {
   "codemirror_mode": {
    "name": "ipython",
    "version": 3
   },
   "file_extension": ".py",
   "mimetype": "text/x-python",
   "name": "python",
   "nbconvert_exporter": "python",
   "pygments_lexer": "ipython3",
   "version": "3.11.4"
  }
 },
 "nbformat": 4,
 "nbformat_minor": 5
}
