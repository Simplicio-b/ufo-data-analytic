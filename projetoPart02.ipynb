{
 "cells": [
  {
   "cell_type": "markdown",
   "id": "496e3b9f-78ff-408a-b957-dea03a894a9f",
   "metadata": {},
   "source": [
    "# Trabalho de ICD (Part.02): Atividades Extraterrestres\n",
    "*Professor: Yure Malheiros Alunos: Vitoria, Simplicio, Daiellem, Bruno*"
   ]
  },
  {
   "cell_type": "markdown",
   "id": "ac4c6dae-9045-49cb-b1b6-fc55c2573e7c",
   "metadata": {},
   "source": [
    "Importanto as bibliotecas que vamos trabalhar:"
   ]
  },
  {
   "cell_type": "code",
   "execution_count": 1,
   "id": "682a3440-1043-4a50-8344-bee4d9c859d3",
   "metadata": {},
   "outputs": [],
   "source": [
    "import pandas as pd"
   ]
  },
  {
   "cell_type": "code",
   "execution_count": 2,
   "id": "785fe9a1-5c1e-4dfe-9a31-fae51da6cd24",
   "metadata": {},
   "outputs": [],
   "source": [
    "import numpy as np"
   ]
  },
  {
   "cell_type": "code",
   "execution_count": 3,
   "id": "603823c2-19b8-4bf6-a2d3-39d94950321c",
   "metadata": {},
   "outputs": [],
   "source": [
    "import matplotlib.pyplot as plt"
   ]
  },
  {
   "cell_type": "markdown",
   "id": "05b01b2b-c290-4077-a161-df2694378edf",
   "metadata": {},
   "source": [
    "Importação dos DataSets:"
   ]
  },
  {
   "cell_type": "code",
   "execution_count": 4,
   "id": "aee385a4-32ae-43f1-8a81-2364eee11881",
   "metadata": {},
   "outputs": [
    {
     "data": {
      "text/html": [
       "<div>\n",
       "<style scoped>\n",
       "    .dataframe tbody tr th:only-of-type {\n",
       "        vertical-align: middle;\n",
       "    }\n",
       "\n",
       "    .dataframe tbody tr th {\n",
       "        vertical-align: top;\n",
       "    }\n",
       "\n",
       "    .dataframe thead th {\n",
       "        text-align: right;\n",
       "    }\n",
       "</style>\n",
       "<table border=\"1\" class=\"dataframe\">\n",
       "  <thead>\n",
       "    <tr style=\"text-align: right;\">\n",
       "      <th></th>\n",
       "      <th>posted</th>\n",
       "      <th>date</th>\n",
       "      <th>time</th>\n",
       "      <th>city</th>\n",
       "      <th>state</th>\n",
       "      <th>shape</th>\n",
       "      <th>duration</th>\n",
       "      <th>summary</th>\n",
       "      <th>images</th>\n",
       "      <th>img_link</th>\n",
       "      <th>lat</th>\n",
       "      <th>lng</th>\n",
       "      <th>population</th>\n",
       "    </tr>\n",
       "  </thead>\n",
       "  <tbody>\n",
       "    <tr>\n",
       "      <th>0</th>\n",
       "      <td>03/06/23</td>\n",
       "      <td>03/05/23</td>\n",
       "      <td>20:47:00</td>\n",
       "      <td>Villas</td>\n",
       "      <td>NJ</td>\n",
       "      <td>Diamond</td>\n",
       "      <td>Few minutes long</td>\n",
       "      <td>Low flying aircraft</td>\n",
       "      <td>Yes</td>\n",
       "      <td>https://nuforc.org/webreports/reports/174/S174...</td>\n",
       "      <td>39.0157</td>\n",
       "      <td>-74.9350</td>\n",
       "      <td>9866</td>\n",
       "    </tr>\n",
       "    <tr>\n",
       "      <th>1</th>\n",
       "      <td>03/06/23</td>\n",
       "      <td>03/05/23</td>\n",
       "      <td>19:00:00</td>\n",
       "      <td>Mooresville</td>\n",
       "      <td>NC</td>\n",
       "      <td>Orb</td>\n",
       "      <td>10 seconds</td>\n",
       "      <td>Turquoise colored light traveling from south t...</td>\n",
       "      <td>Yes</td>\n",
       "      <td>https://nuforc.org/webreports/reports/174/S174...</td>\n",
       "      <td>35.5847</td>\n",
       "      <td>-80.8266</td>\n",
       "      <td>48431</td>\n",
       "    </tr>\n",
       "    <tr>\n",
       "      <th>2</th>\n",
       "      <td>03/06/23</td>\n",
       "      <td>03/05/23</td>\n",
       "      <td>12:30:00</td>\n",
       "      <td>Los Angeles</td>\n",
       "      <td>CA</td>\n",
       "      <td>Changing</td>\n",
       "      <td>4 min</td>\n",
       "      <td>Dark object triangular changed shape</td>\n",
       "      <td>Yes</td>\n",
       "      <td>https://nuforc.org/webreports/reports/174/S174...</td>\n",
       "      <td>34.1141</td>\n",
       "      <td>-118.4068</td>\n",
       "      <td>12121244</td>\n",
       "    </tr>\n",
       "    <tr>\n",
       "      <th>3</th>\n",
       "      <td>03/06/23</td>\n",
       "      <td>03/05/23</td>\n",
       "      <td>00:30:00</td>\n",
       "      <td>Brooklyn</td>\n",
       "      <td>NY</td>\n",
       "      <td>Light</td>\n",
       "      <td>Atleast 10 mins</td>\n",
       "      <td>Light object sky, In Brooklyn towards Manhattan</td>\n",
       "      <td>Yes</td>\n",
       "      <td>https://nuforc.org/webreports/reports/174/S174...</td>\n",
       "      <td>40.6501</td>\n",
       "      <td>-73.9496</td>\n",
       "      <td>2736074</td>\n",
       "    </tr>\n",
       "    <tr>\n",
       "      <th>4</th>\n",
       "      <td>03/06/23</td>\n",
       "      <td>03/04/23</td>\n",
       "      <td>23:49:00</td>\n",
       "      <td>Enid</td>\n",
       "      <td>OK</td>\n",
       "      <td>Formation</td>\n",
       "      <td>NaN</td>\n",
       "      <td>It suddenly appeared over rhe neighbors house ...</td>\n",
       "      <td>Yes</td>\n",
       "      <td>https://nuforc.org/webreports/reports/174/S174...</td>\n",
       "      <td>36.4063</td>\n",
       "      <td>-97.8700</td>\n",
       "      <td>51129</td>\n",
       "    </tr>\n",
       "    <tr>\n",
       "      <th>...</th>\n",
       "      <td>...</td>\n",
       "      <td>...</td>\n",
       "      <td>...</td>\n",
       "      <td>...</td>\n",
       "      <td>...</td>\n",
       "      <td>...</td>\n",
       "      <td>...</td>\n",
       "      <td>...</td>\n",
       "      <td>...</td>\n",
       "      <td>...</td>\n",
       "      <td>...</td>\n",
       "      <td>...</td>\n",
       "      <td>...</td>\n",
       "    </tr>\n",
       "    <tr>\n",
       "      <th>1312</th>\n",
       "      <td>12/19/21</td>\n",
       "      <td>12/09/21</td>\n",
       "      <td>04:00:00</td>\n",
       "      <td>Staunton</td>\n",
       "      <td>VA</td>\n",
       "      <td>Circle</td>\n",
       "      <td>&gt;20 minutes</td>\n",
       "      <td>The object was distinctively different than th...</td>\n",
       "      <td>Yes</td>\n",
       "      <td>https://nuforc.org/webreports/reports/165/S165...</td>\n",
       "      <td>38.1593</td>\n",
       "      <td>-79.0611</td>\n",
       "      <td>25358</td>\n",
       "    </tr>\n",
       "    <tr>\n",
       "      <th>1313</th>\n",
       "      <td>12/19/21</td>\n",
       "      <td>12/03/21</td>\n",
       "      <td>18:00:00</td>\n",
       "      <td>Wentworth</td>\n",
       "      <td>MO</td>\n",
       "      <td>Cylinder</td>\n",
       "      <td>NaN</td>\n",
       "      <td>Long cylinderical craft with about 15 or 20 wh...</td>\n",
       "      <td>Yes</td>\n",
       "      <td>https://nuforc.org/webreports/reports/165/S165...</td>\n",
       "      <td>36.9932</td>\n",
       "      <td>-94.0756</td>\n",
       "      <td>85</td>\n",
       "    </tr>\n",
       "    <tr>\n",
       "      <th>1314</th>\n",
       "      <td>12/19/21</td>\n",
       "      <td>09/27/21</td>\n",
       "      <td>22:00:00</td>\n",
       "      <td>Blowing Rock</td>\n",
       "      <td>NC</td>\n",
       "      <td>Light</td>\n",
       "      <td>NaN</td>\n",
       "      <td>I saw three lights in the sky that approached ...</td>\n",
       "      <td>Yes</td>\n",
       "      <td>https://nuforc.org/webreports/reports/165/S165...</td>\n",
       "      <td>36.1298</td>\n",
       "      <td>-81.6706</td>\n",
       "      <td>1072</td>\n",
       "    </tr>\n",
       "    <tr>\n",
       "      <th>1315</th>\n",
       "      <td>12/19/21</td>\n",
       "      <td>02/21/20</td>\n",
       "      <td>19:30:00</td>\n",
       "      <td>Scottsdale</td>\n",
       "      <td>AZ</td>\n",
       "      <td>Other</td>\n",
       "      <td>NaN</td>\n",
       "      <td>Bank of what looked like blacklight screens fl...</td>\n",
       "      <td>Yes</td>\n",
       "      <td>https://nuforc.org/webreports/reports/165/S165...</td>\n",
       "      <td>33.6872</td>\n",
       "      <td>-111.8651</td>\n",
       "      <td>238685</td>\n",
       "    </tr>\n",
       "    <tr>\n",
       "      <th>1316</th>\n",
       "      <td>12/19/21</td>\n",
       "      <td>03/04/15</td>\n",
       "      <td>16:30:00</td>\n",
       "      <td>Clear Lake</td>\n",
       "      <td>CA</td>\n",
       "      <td>Cigar</td>\n",
       "      <td>NaN</td>\n",
       "      <td>I seen a cigar shaped craft with black rectang...</td>\n",
       "      <td>Yes</td>\n",
       "      <td>https://nuforc.org/webreports/reports/165/S165...</td>\n",
       "      <td>38.9589</td>\n",
       "      <td>-122.6330</td>\n",
       "      <td>16468</td>\n",
       "    </tr>\n",
       "  </tbody>\n",
       "</table>\n",
       "<p>1317 rows × 13 columns</p>\n",
       "</div>"
      ],
      "text/plain": [
       "        posted      date      time          city state      shape  \\\n",
       "0     03/06/23  03/05/23  20:47:00        Villas    NJ    Diamond   \n",
       "1     03/06/23  03/05/23  19:00:00   Mooresville    NC        Orb   \n",
       "2     03/06/23  03/05/23  12:30:00   Los Angeles    CA   Changing   \n",
       "3     03/06/23  03/05/23  00:30:00      Brooklyn    NY      Light   \n",
       "4     03/06/23  03/04/23  23:49:00          Enid    OK  Formation   \n",
       "...        ...       ...       ...           ...   ...        ...   \n",
       "1312  12/19/21  12/09/21  04:00:00      Staunton    VA     Circle   \n",
       "1313  12/19/21  12/03/21  18:00:00     Wentworth    MO   Cylinder   \n",
       "1314  12/19/21  09/27/21  22:00:00  Blowing Rock    NC      Light   \n",
       "1315  12/19/21  02/21/20  19:30:00    Scottsdale    AZ      Other   \n",
       "1316  12/19/21  03/04/15  16:30:00    Clear Lake    CA      Cigar   \n",
       "\n",
       "              duration                                            summary  \\\n",
       "0     Few minutes long                                Low flying aircraft   \n",
       "1           10 seconds  Turquoise colored light traveling from south t...   \n",
       "2                4 min               Dark object triangular changed shape   \n",
       "3      Atleast 10 mins    Light object sky, In Brooklyn towards Manhattan   \n",
       "4                  NaN  It suddenly appeared over rhe neighbors house ...   \n",
       "...                ...                                                ...   \n",
       "1312       >20 minutes  The object was distinctively different than th...   \n",
       "1313               NaN  Long cylinderical craft with about 15 or 20 wh...   \n",
       "1314               NaN  I saw three lights in the sky that approached ...   \n",
       "1315               NaN  Bank of what looked like blacklight screens fl...   \n",
       "1316               NaN  I seen a cigar shaped craft with black rectang...   \n",
       "\n",
       "     images                                           img_link      lat  \\\n",
       "0       Yes  https://nuforc.org/webreports/reports/174/S174...  39.0157   \n",
       "1       Yes  https://nuforc.org/webreports/reports/174/S174...  35.5847   \n",
       "2       Yes  https://nuforc.org/webreports/reports/174/S174...  34.1141   \n",
       "3       Yes  https://nuforc.org/webreports/reports/174/S174...  40.6501   \n",
       "4       Yes  https://nuforc.org/webreports/reports/174/S174...  36.4063   \n",
       "...     ...                                                ...      ...   \n",
       "1312    Yes  https://nuforc.org/webreports/reports/165/S165...  38.1593   \n",
       "1313    Yes  https://nuforc.org/webreports/reports/165/S165...  36.9932   \n",
       "1314    Yes  https://nuforc.org/webreports/reports/165/S165...  36.1298   \n",
       "1315    Yes  https://nuforc.org/webreports/reports/165/S165...  33.6872   \n",
       "1316    Yes  https://nuforc.org/webreports/reports/165/S165...  38.9589   \n",
       "\n",
       "           lng  population  \n",
       "0     -74.9350        9866  \n",
       "1     -80.8266       48431  \n",
       "2    -118.4068    12121244  \n",
       "3     -73.9496     2736074  \n",
       "4     -97.8700       51129  \n",
       "...        ...         ...  \n",
       "1312  -79.0611       25358  \n",
       "1313  -94.0756          85  \n",
       "1314  -81.6706        1072  \n",
       "1315 -111.8651      238685  \n",
       "1316 -122.6330       16468  \n",
       "\n",
       "[1317 rows x 13 columns]"
      ]
     },
     "execution_count": 4,
     "metadata": {},
     "output_type": "execute_result"
    }
   ],
   "source": [
    "datasetETs01 = pd.read_csv(\"./ufo_data_nuforc.csv\")\n",
    "datasetETs01"
   ]
  },
  {
   "cell_type": "markdown",
   "id": "102bb034-6420-4d1e-b714-95a75023c844",
   "metadata": {},
   "source": [
    "[Fonte](https://www.kaggle.com/datasets/joebeachcapital/ufo-sightings)\n",
    "> Esse primeiro DataSet é bem limpo. Tem as datas, hora, duração, informações da cidade e outros dados das aparições."
   ]
  },
  {
   "cell_type": "code",
   "execution_count": 5,
   "id": "b6756d0f-707f-4bc9-9778-09dc6b883607",
   "metadata": {},
   "outputs": [
    {
     "data": {
      "text/plain": [
       "0    09/24/22\n",
       "Name: date, dtype: object"
      ]
     },
     "execution_count": 5,
     "metadata": {},
     "output_type": "execute_result"
    }
   ],
   "source": [
    "datasetETs01[\"date\"].mode()"
   ]
  },
  {
   "cell_type": "code",
   "execution_count": 6,
   "id": "3e1fd133-be0a-41c0-8dbc-fb1d4a9ecda0",
   "metadata": {},
   "outputs": [
    {
     "data": {
      "text/plain": [
       "0    Las Vegas\n",
       "Name: city, dtype: object"
      ]
     },
     "execution_count": 6,
     "metadata": {},
     "output_type": "execute_result"
    }
   ],
   "source": [
    "datasetETs01[\"city\"].mode()"
   ]
  },
  {
   "cell_type": "code",
   "execution_count": 7,
   "id": "4ab9ecb4-61c5-4fff-b743-737a00f36470",
   "metadata": {},
   "outputs": [
    {
     "data": {
      "text/plain": [
       "0    FL\n",
       "Name: state, dtype: object"
      ]
     },
     "execution_count": 7,
     "metadata": {},
     "output_type": "execute_result"
    }
   ],
   "source": [
    "datasetETs01[\"state\"].mode()"
   ]
  },
  {
   "cell_type": "code",
   "execution_count": 8,
   "id": "ad0140e7-5b94-42f6-a0c1-ad35abd3dbd8",
   "metadata": {},
   "outputs": [
    {
     "data": {
      "text/plain": [
       "0    Circle\n",
       "Name: shape, dtype: object"
      ]
     },
     "execution_count": 8,
     "metadata": {},
     "output_type": "execute_result"
    }
   ],
   "source": [
    "datasetETs01[\"shape\"].mode()"
   ]
  },
  {
   "cell_type": "code",
   "execution_count": 9,
   "id": "b7adb79e-3099-42df-978c-6a4b75cb87a9",
   "metadata": {},
   "outputs": [
    {
     "data": {
      "text/plain": [
       "images\n",
       "Yes    1317\n",
       "Name: count, dtype: int64"
      ]
     },
     "execution_count": 9,
     "metadata": {},
     "output_type": "execute_result"
    }
   ],
   "source": [
    "imagens = datasetETs01[\"images\"].value_counts()\n",
    "imagens"
   ]
  },
  {
   "cell_type": "markdown",
   "id": "fcb0aa6e-6b9d-492c-80f2-6fd767864024",
   "metadata": {},
   "source": [
    "Na coluna \"images\" eu usei esse comando para saber se havia algum resultado diferente de \"Yes\", foi possivel observa que todas as aparições tem registros."
   ]
  },
  {
   "cell_type": "markdown",
   "id": "1d528627-aa48-4e17-a0e9-4a0eec597a01",
   "metadata": {},
   "source": [
    ">Pegamos moda de algumas variaveis( \"date\", \"city\", \"state\" e \"shape\") o que se pode fazer com essas colunas é apenas encontrar suas modas. Que tambem pode ser feito com um \".value_counts()\" e obter uma listagem mais completa.\n",
    ">Com esse dado é possivel observar a data, a cidade e estado que mais teve aparições e a forma dos ETs observados."
   ]
  },
  {
   "cell_type": "markdown",
   "id": "cbcd3f0d-1c1c-4a96-90a5-ae78afd32d1c",
   "metadata": {},
   "source": [
    "Logo abaixo trabalhamos com a coluna \"population\" das cidades onde houve as aparições e obtemos suas medidas de centralidade:"
   ]
  },
  {
   "cell_type": "code",
   "execution_count": 10,
   "id": "2b125b25-2266-4e74-8aa1-28c135737438",
   "metadata": {},
   "outputs": [
    {
     "data": {
      "text/plain": [
       "558924.8762338648"
      ]
     },
     "execution_count": 10,
     "metadata": {},
     "output_type": "execute_result"
    }
   ],
   "source": [
    "datasetETs01[\"population\"].mean()"
   ]
  },
  {
   "cell_type": "code",
   "execution_count": 11,
   "id": "ab992c9e-e131-402b-9933-e7793e1d6962",
   "metadata": {},
   "outputs": [
    {
     "data": {
      "text/plain": [
       "37871.0"
      ]
     },
     "execution_count": 11,
     "metadata": {},
     "output_type": "execute_result"
    }
   ],
   "source": [
    "datasetETs01[\"population\"].median()"
   ]
  },
  {
   "cell_type": "code",
   "execution_count": 12,
   "id": "f3c7ead2-2119-4a77-9acf-5e01be402e50",
   "metadata": {},
   "outputs": [
    {
     "data": {
      "text/plain": [
       "0    2150373\n",
       "Name: population, dtype: int64"
      ]
     },
     "execution_count": 12,
     "metadata": {},
     "output_type": "execute_result"
    }
   ],
   "source": [
    "datasetETs01[\"population\"].mode()"
   ]
  },
  {
   "cell_type": "markdown",
   "id": "1b2d848b-cf45-485f-b3a5-c090ab42244c",
   "metadata": {},
   "source": [
    "...\n",
    "\n"
   ]
  },
  {
   "cell_type": "code",
   "execution_count": 38,
   "id": "663401ba-5d35-452c-9eb3-65eeffb739c8",
   "metadata": {},
   "outputs": [
    {
     "data": {
      "text/html": [
       "<div>\n",
       "<style scoped>\n",
       "    .dataframe tbody tr th:only-of-type {\n",
       "        vertical-align: middle;\n",
       "    }\n",
       "\n",
       "    .dataframe tbody tr th {\n",
       "        vertical-align: top;\n",
       "    }\n",
       "\n",
       "    .dataframe thead th {\n",
       "        text-align: right;\n",
       "    }\n",
       "</style>\n",
       "<table border=\"1\" class=\"dataframe\">\n",
       "  <thead>\n",
       "    <tr style=\"text-align: right;\">\n",
       "      <th></th>\n",
       "      <th>Date_time</th>\n",
       "      <th>city</th>\n",
       "      <th>state/province</th>\n",
       "      <th>country</th>\n",
       "      <th>UFO_shape</th>\n",
       "      <th>length_of_encounter_seconds</th>\n",
       "      <th>described_duration_of_encounter</th>\n",
       "      <th>description</th>\n",
       "      <th>date_documented</th>\n",
       "      <th>latitude</th>\n",
       "      <th>longitude</th>\n",
       "    </tr>\n",
       "  </thead>\n",
       "  <tbody>\n",
       "    <tr>\n",
       "      <th>0</th>\n",
       "      <td>10/10/1949 20:30</td>\n",
       "      <td>san marcos</td>\n",
       "      <td>tx</td>\n",
       "      <td>us</td>\n",
       "      <td>cylinder</td>\n",
       "      <td>2700</td>\n",
       "      <td>45 minutes</td>\n",
       "      <td>This event took place in early fall around 194...</td>\n",
       "      <td>4/27/2004</td>\n",
       "      <td>29.8830556</td>\n",
       "      <td>-97.941111</td>\n",
       "    </tr>\n",
       "    <tr>\n",
       "      <th>1</th>\n",
       "      <td>10/10/1949 21:00</td>\n",
       "      <td>lackland afb</td>\n",
       "      <td>tx</td>\n",
       "      <td>NaN</td>\n",
       "      <td>light</td>\n",
       "      <td>7200</td>\n",
       "      <td>1-2 hrs</td>\n",
       "      <td>1949 Lackland AFB&amp;#44 TX.  Lights racing acros...</td>\n",
       "      <td>12/16/2005</td>\n",
       "      <td>29.38421</td>\n",
       "      <td>-98.581082</td>\n",
       "    </tr>\n",
       "    <tr>\n",
       "      <th>2</th>\n",
       "      <td>10/10/1955 17:00</td>\n",
       "      <td>chester (uk/england)</td>\n",
       "      <td>NaN</td>\n",
       "      <td>gb</td>\n",
       "      <td>circle</td>\n",
       "      <td>20</td>\n",
       "      <td>20 seconds</td>\n",
       "      <td>Green/Orange circular disc over Chester&amp;#44 En...</td>\n",
       "      <td>1/21/2008</td>\n",
       "      <td>53.2</td>\n",
       "      <td>-2.916667</td>\n",
       "    </tr>\n",
       "    <tr>\n",
       "      <th>3</th>\n",
       "      <td>10/10/1956 21:00</td>\n",
       "      <td>edna</td>\n",
       "      <td>tx</td>\n",
       "      <td>us</td>\n",
       "      <td>circle</td>\n",
       "      <td>20</td>\n",
       "      <td>1/2 hour</td>\n",
       "      <td>My older brother and twin sister were leaving ...</td>\n",
       "      <td>1/17/2004</td>\n",
       "      <td>28.9783333</td>\n",
       "      <td>-96.645833</td>\n",
       "    </tr>\n",
       "    <tr>\n",
       "      <th>4</th>\n",
       "      <td>10/10/1960 20:00</td>\n",
       "      <td>kaneohe</td>\n",
       "      <td>hi</td>\n",
       "      <td>us</td>\n",
       "      <td>light</td>\n",
       "      <td>900</td>\n",
       "      <td>15 minutes</td>\n",
       "      <td>AS a Marine 1st Lt. flying an FJ4B fighter/att...</td>\n",
       "      <td>1/22/2004</td>\n",
       "      <td>21.4180556</td>\n",
       "      <td>-157.803611</td>\n",
       "    </tr>\n",
       "    <tr>\n",
       "      <th>...</th>\n",
       "      <td>...</td>\n",
       "      <td>...</td>\n",
       "      <td>...</td>\n",
       "      <td>...</td>\n",
       "      <td>...</td>\n",
       "      <td>...</td>\n",
       "      <td>...</td>\n",
       "      <td>...</td>\n",
       "      <td>...</td>\n",
       "      <td>...</td>\n",
       "      <td>...</td>\n",
       "    </tr>\n",
       "    <tr>\n",
       "      <th>80327</th>\n",
       "      <td>9/9/2013 21:15</td>\n",
       "      <td>nashville</td>\n",
       "      <td>tn</td>\n",
       "      <td>us</td>\n",
       "      <td>light</td>\n",
       "      <td>600</td>\n",
       "      <td>10 minutes</td>\n",
       "      <td>Round from the distance/slowly changing colors...</td>\n",
       "      <td>9/30/2013</td>\n",
       "      <td>36.1658333</td>\n",
       "      <td>-86.784444</td>\n",
       "    </tr>\n",
       "    <tr>\n",
       "      <th>80328</th>\n",
       "      <td>9/9/2013 22:00</td>\n",
       "      <td>boise</td>\n",
       "      <td>id</td>\n",
       "      <td>us</td>\n",
       "      <td>circle</td>\n",
       "      <td>1200</td>\n",
       "      <td>20 minutes</td>\n",
       "      <td>Boise&amp;#44 ID&amp;#44 spherical&amp;#44 20 min&amp;#44 10 r...</td>\n",
       "      <td>9/30/2013</td>\n",
       "      <td>43.6136111</td>\n",
       "      <td>-116.202500</td>\n",
       "    </tr>\n",
       "    <tr>\n",
       "      <th>80329</th>\n",
       "      <td>9/9/2013 22:00</td>\n",
       "      <td>napa</td>\n",
       "      <td>ca</td>\n",
       "      <td>us</td>\n",
       "      <td>other</td>\n",
       "      <td>1200</td>\n",
       "      <td>hour</td>\n",
       "      <td>Napa UFO&amp;#44</td>\n",
       "      <td>9/30/2013</td>\n",
       "      <td>38.2972222</td>\n",
       "      <td>-122.284444</td>\n",
       "    </tr>\n",
       "    <tr>\n",
       "      <th>80330</th>\n",
       "      <td>9/9/2013 22:20</td>\n",
       "      <td>vienna</td>\n",
       "      <td>va</td>\n",
       "      <td>us</td>\n",
       "      <td>circle</td>\n",
       "      <td>5</td>\n",
       "      <td>5 seconds</td>\n",
       "      <td>Saw a five gold lit cicular craft moving fastl...</td>\n",
       "      <td>9/30/2013</td>\n",
       "      <td>38.9011111</td>\n",
       "      <td>-77.265556</td>\n",
       "    </tr>\n",
       "    <tr>\n",
       "      <th>80331</th>\n",
       "      <td>9/9/2013 23:00</td>\n",
       "      <td>edmond</td>\n",
       "      <td>ok</td>\n",
       "      <td>us</td>\n",
       "      <td>cigar</td>\n",
       "      <td>1020</td>\n",
       "      <td>17 minutes</td>\n",
       "      <td>2 witnesses 2  miles apart&amp;#44 Red &amp;amp; White...</td>\n",
       "      <td>9/30/2013</td>\n",
       "      <td>35.6527778</td>\n",
       "      <td>-97.477778</td>\n",
       "    </tr>\n",
       "  </tbody>\n",
       "</table>\n",
       "<p>80332 rows × 11 columns</p>\n",
       "</div>"
      ],
      "text/plain": [
       "              Date_time                  city state/province country  \\\n",
       "0      10/10/1949 20:30            san marcos             tx      us   \n",
       "1      10/10/1949 21:00          lackland afb             tx     NaN   \n",
       "2      10/10/1955 17:00  chester (uk/england)            NaN      gb   \n",
       "3      10/10/1956 21:00                  edna             tx      us   \n",
       "4      10/10/1960 20:00               kaneohe             hi      us   \n",
       "...                 ...                   ...            ...     ...   \n",
       "80327    9/9/2013 21:15             nashville             tn      us   \n",
       "80328    9/9/2013 22:00                 boise             id      us   \n",
       "80329    9/9/2013 22:00                  napa             ca      us   \n",
       "80330    9/9/2013 22:20                vienna             va      us   \n",
       "80331    9/9/2013 23:00                edmond             ok      us   \n",
       "\n",
       "      UFO_shape length_of_encounter_seconds described_duration_of_encounter  \\\n",
       "0      cylinder                        2700                      45 minutes   \n",
       "1         light                        7200                         1-2 hrs   \n",
       "2        circle                          20                      20 seconds   \n",
       "3        circle                          20                        1/2 hour   \n",
       "4         light                         900                      15 minutes   \n",
       "...         ...                         ...                             ...   \n",
       "80327     light                         600                      10 minutes   \n",
       "80328    circle                        1200                      20 minutes   \n",
       "80329     other                        1200                            hour   \n",
       "80330    circle                           5                       5 seconds   \n",
       "80331     cigar                        1020                      17 minutes   \n",
       "\n",
       "                                             description date_documented  \\\n",
       "0      This event took place in early fall around 194...       4/27/2004   \n",
       "1      1949 Lackland AFB&#44 TX.  Lights racing acros...      12/16/2005   \n",
       "2      Green/Orange circular disc over Chester&#44 En...       1/21/2008   \n",
       "3      My older brother and twin sister were leaving ...       1/17/2004   \n",
       "4      AS a Marine 1st Lt. flying an FJ4B fighter/att...       1/22/2004   \n",
       "...                                                  ...             ...   \n",
       "80327  Round from the distance/slowly changing colors...       9/30/2013   \n",
       "80328  Boise&#44 ID&#44 spherical&#44 20 min&#44 10 r...       9/30/2013   \n",
       "80329                                       Napa UFO&#44       9/30/2013   \n",
       "80330  Saw a five gold lit cicular craft moving fastl...       9/30/2013   \n",
       "80331  2 witnesses 2  miles apart&#44 Red &amp; White...       9/30/2013   \n",
       "\n",
       "         latitude   longitude  \n",
       "0      29.8830556  -97.941111  \n",
       "1        29.38421  -98.581082  \n",
       "2            53.2   -2.916667  \n",
       "3      28.9783333  -96.645833  \n",
       "4      21.4180556 -157.803611  \n",
       "...           ...         ...  \n",
       "80327  36.1658333  -86.784444  \n",
       "80328  43.6136111 -116.202500  \n",
       "80329  38.2972222 -122.284444  \n",
       "80330  38.9011111  -77.265556  \n",
       "80331  35.6527778  -97.477778  \n",
       "\n",
       "[80332 rows x 11 columns]"
      ]
     },
     "execution_count": 38,
     "metadata": {},
     "output_type": "execute_result"
    }
   ],
   "source": [
    "datasetETs02 = pd.read_csv(\"./datasetETs.csv\", low_memory=False)\n",
    "datasetETs02"
   ]
  },
  {
   "cell_type": "markdown",
   "id": "cc57c7cc-c074-4503-9deb-c897bcad50d7",
   "metadata": {},
   "source": [
    "[Fonte](https://www.kaggle.com/datasets/camnugent/ufo-sightings-around-the-world)\n",
    ">Esse segundo DataSet tambem é bem limpo, mas teve um problema de valores diferentes em uma mesma coluna entao utilizamos o \"Low_memory = False\" para corrigir e conseguir importa ele, em relaçao ao DatasSet anterior, tem o acrescimo da descrição das aparições"
   ]
  },
  {
   "cell_type": "code",
   "execution_count": 14,
   "id": "01ae3aee-92c3-432c-b742-c8aa76c938d5",
   "metadata": {},
   "outputs": [
    {
     "data": {
      "text/plain": [
       "0    7/4/2010 22:00\n",
       "Name: Date_time, dtype: object"
      ]
     },
     "execution_count": 14,
     "metadata": {},
     "output_type": "execute_result"
    }
   ],
   "source": [
    "datasetETs02[\"Date_time\"].mode()"
   ]
  },
  {
   "cell_type": "code",
   "execution_count": 15,
   "id": "517c88b4-07d3-4796-8b84-b023625d07e7",
   "metadata": {},
   "outputs": [
    {
     "data": {
      "text/plain": [
       "0    ca\n",
       "Name: state/province, dtype: object"
      ]
     },
     "execution_count": 15,
     "metadata": {},
     "output_type": "execute_result"
    }
   ],
   "source": [
    "datasetETs02[\"state/province\"].mode()"
   ]
  },
  {
   "cell_type": "code",
   "execution_count": 16,
   "id": "52f0a5a6-7c6c-4391-80df-f240e4168e55",
   "metadata": {},
   "outputs": [
    {
     "data": {
      "text/plain": [
       "0    us\n",
       "Name: country, dtype: object"
      ]
     },
     "execution_count": 16,
     "metadata": {},
     "output_type": "execute_result"
    }
   ],
   "source": [
    "datasetETs02[\"country\"].mode()"
   ]
  },
  {
   "cell_type": "code",
   "execution_count": 17,
   "id": "10b11b82-ded1-4d6d-a9fe-224d92fa38e5",
   "metadata": {},
   "outputs": [
    {
     "data": {
      "text/plain": [
       "0    light\n",
       "Name: UFO_shape, dtype: object"
      ]
     },
     "execution_count": 17,
     "metadata": {},
     "output_type": "execute_result"
    }
   ],
   "source": [
    "datasetETs02[\"UFO_shape\"].mode()"
   ]
  },
  {
   "cell_type": "code",
   "execution_count": 18,
   "id": "dfefd097-c54c-4016-9915-9518a1446c5f",
   "metadata": {},
   "outputs": [
    {
     "data": {
      "text/plain": [
       "0    300\n",
       "Name: length_of_encounter_seconds, dtype: object"
      ]
     },
     "execution_count": 18,
     "metadata": {},
     "output_type": "execute_result"
    }
   ],
   "source": [
    "datasetETs02[\"length_of_encounter_seconds\"].mode()"
   ]
  },
  {
   "cell_type": "markdown",
   "id": "7c009f52-0b35-483d-a309-294dfc32abd1",
   "metadata": {},
   "source": [
    "Segui os mesmos passos do dataframe anterior, nesse tentei calcular a media e mediana da coluna \"length_of_encounter_seconds\" , que seria  e media e a mediana em segundos da aparição, mas deu errado :("
   ]
  },
  {
   "cell_type": "markdown",
   "id": "ce9368c0-3e93-4f0d-b69a-af1ec1f3be7e",
   "metadata": {},
   "source": [
    "..."
   ]
  },
  {
   "cell_type": "code",
   "execution_count": 19,
   "id": "4371ddd8-5c0d-43c9-a5c3-b7f147c87873",
   "metadata": {},
   "outputs": [
    {
     "data": {
      "text/html": [
       "<div>\n",
       "<style scoped>\n",
       "    .dataframe tbody tr th:only-of-type {\n",
       "        vertical-align: middle;\n",
       "    }\n",
       "\n",
       "    .dataframe tbody tr th {\n",
       "        vertical-align: top;\n",
       "    }\n",
       "\n",
       "    .dataframe thead th {\n",
       "        text-align: right;\n",
       "    }\n",
       "</style>\n",
       "<table border=\"1\" class=\"dataframe\">\n",
       "  <thead>\n",
       "    <tr style=\"text-align: right;\">\n",
       "      <th></th>\n",
       "      <th>state</th>\n",
       "      <th>city</th>\n",
       "      <th>colour</th>\n",
       "      <th>shape</th>\n",
       "      <th>mday</th>\n",
       "      <th>month</th>\n",
       "      <th>year</th>\n",
       "      <th>hour</th>\n",
       "      <th>id</th>\n",
       "      <th>pressure</th>\n",
       "      <th>...</th>\n",
       "      <th>dewpt</th>\n",
       "      <th>thunder</th>\n",
       "      <th>fog</th>\n",
       "      <th>precip</th>\n",
       "      <th>wspd</th>\n",
       "      <th>tornado</th>\n",
       "      <th>hum</th>\n",
       "      <th>snow</th>\n",
       "      <th>wgust</th>\n",
       "      <th>conds</th>\n",
       "    </tr>\n",
       "  </thead>\n",
       "  <tbody>\n",
       "    <tr>\n",
       "      <th>0</th>\n",
       "      <td>WA</td>\n",
       "      <td>Olympia</td>\n",
       "      <td>NaN</td>\n",
       "      <td>Formation</td>\n",
       "      <td>14</td>\n",
       "      <td>11</td>\n",
       "      <td>1997</td>\n",
       "      <td>21</td>\n",
       "      <td>NaN</td>\n",
       "      <td>-0.163149</td>\n",
       "      <td>...</td>\n",
       "      <td>-0.867472</td>\n",
       "      <td>0</td>\n",
       "      <td>0</td>\n",
       "      <td>NaN</td>\n",
       "      <td>-0.357641</td>\n",
       "      <td>0</td>\n",
       "      <td>1.598872</td>\n",
       "      <td>0</td>\n",
       "      <td>NaN</td>\n",
       "      <td>Clear</td>\n",
       "    </tr>\n",
       "    <tr>\n",
       "      <th>1</th>\n",
       "      <td>WA</td>\n",
       "      <td>Olympia</td>\n",
       "      <td>NaN</td>\n",
       "      <td>Fireball</td>\n",
       "      <td>14</td>\n",
       "      <td>11</td>\n",
       "      <td>1997</td>\n",
       "      <td>21</td>\n",
       "      <td>NaN</td>\n",
       "      <td>-0.163149</td>\n",
       "      <td>...</td>\n",
       "      <td>-0.867472</td>\n",
       "      <td>0</td>\n",
       "      <td>0</td>\n",
       "      <td>NaN</td>\n",
       "      <td>-0.357641</td>\n",
       "      <td>0</td>\n",
       "      <td>1.598872</td>\n",
       "      <td>0</td>\n",
       "      <td>NaN</td>\n",
       "      <td>Clear</td>\n",
       "    </tr>\n",
       "    <tr>\n",
       "      <th>2</th>\n",
       "      <td>WA</td>\n",
       "      <td>Olympia</td>\n",
       "      <td>NaN</td>\n",
       "      <td>Formation</td>\n",
       "      <td>14</td>\n",
       "      <td>11</td>\n",
       "      <td>1997</td>\n",
       "      <td>21</td>\n",
       "      <td>NaN</td>\n",
       "      <td>-0.163149</td>\n",
       "      <td>...</td>\n",
       "      <td>-0.867472</td>\n",
       "      <td>0</td>\n",
       "      <td>0</td>\n",
       "      <td>NaN</td>\n",
       "      <td>-0.357641</td>\n",
       "      <td>0</td>\n",
       "      <td>1.598872</td>\n",
       "      <td>0</td>\n",
       "      <td>NaN</td>\n",
       "      <td>Clear</td>\n",
       "    </tr>\n",
       "    <tr>\n",
       "      <th>3</th>\n",
       "      <td>MD</td>\n",
       "      <td>Salisbury</td>\n",
       "      <td>NaN</td>\n",
       "      <td>Oval</td>\n",
       "      <td>24</td>\n",
       "      <td>11</td>\n",
       "      <td>1997</td>\n",
       "      <td>2</td>\n",
       "      <td>NaN</td>\n",
       "      <td>-0.189379</td>\n",
       "      <td>...</td>\n",
       "      <td>-0.464073</td>\n",
       "      <td>0</td>\n",
       "      <td>0</td>\n",
       "      <td>NaN</td>\n",
       "      <td>-0.911239</td>\n",
       "      <td>0</td>\n",
       "      <td>0.980525</td>\n",
       "      <td>0</td>\n",
       "      <td>NaN</td>\n",
       "      <td>Mostly Cloudy</td>\n",
       "    </tr>\n",
       "    <tr>\n",
       "      <th>4</th>\n",
       "      <td>MD</td>\n",
       "      <td>Salisbury</td>\n",
       "      <td>YELLOW</td>\n",
       "      <td>Oval</td>\n",
       "      <td>24</td>\n",
       "      <td>11</td>\n",
       "      <td>1997</td>\n",
       "      <td>2</td>\n",
       "      <td>NaN</td>\n",
       "      <td>-0.189379</td>\n",
       "      <td>...</td>\n",
       "      <td>-0.464073</td>\n",
       "      <td>0</td>\n",
       "      <td>0</td>\n",
       "      <td>NaN</td>\n",
       "      <td>-0.911239</td>\n",
       "      <td>0</td>\n",
       "      <td>0.980525</td>\n",
       "      <td>0</td>\n",
       "      <td>NaN</td>\n",
       "      <td>Mostly Cloudy</td>\n",
       "    </tr>\n",
       "    <tr>\n",
       "      <th>...</th>\n",
       "      <td>...</td>\n",
       "      <td>...</td>\n",
       "      <td>...</td>\n",
       "      <td>...</td>\n",
       "      <td>...</td>\n",
       "      <td>...</td>\n",
       "      <td>...</td>\n",
       "      <td>...</td>\n",
       "      <td>...</td>\n",
       "      <td>...</td>\n",
       "      <td>...</td>\n",
       "      <td>...</td>\n",
       "      <td>...</td>\n",
       "      <td>...</td>\n",
       "      <td>...</td>\n",
       "      <td>...</td>\n",
       "      <td>...</td>\n",
       "      <td>...</td>\n",
       "      <td>...</td>\n",
       "      <td>...</td>\n",
       "      <td>...</td>\n",
       "    </tr>\n",
       "    <tr>\n",
       "      <th>51865</th>\n",
       "      <td>AZ</td>\n",
       "      <td>Prescott Valley</td>\n",
       "      <td>NaN</td>\n",
       "      <td>Circle</td>\n",
       "      <td>28</td>\n",
       "      <td>1</td>\n",
       "      <td>2000</td>\n",
       "      <td>20</td>\n",
       "      <td>57531.0</td>\n",
       "      <td>0.610616</td>\n",
       "      <td>...</td>\n",
       "      <td>-1.835629</td>\n",
       "      <td>0</td>\n",
       "      <td>0</td>\n",
       "      <td>NaN</td>\n",
       "      <td>-0.357641</td>\n",
       "      <td>0</td>\n",
       "      <td>-0.731823</td>\n",
       "      <td>0</td>\n",
       "      <td>NaN</td>\n",
       "      <td>Clear</td>\n",
       "    </tr>\n",
       "    <tr>\n",
       "      <th>51866</th>\n",
       "      <td>CA</td>\n",
       "      <td>Covina</td>\n",
       "      <td>NaN</td>\n",
       "      <td>Light</td>\n",
       "      <td>27</td>\n",
       "      <td>1</td>\n",
       "      <td>2000</td>\n",
       "      <td>18</td>\n",
       "      <td>57536.0</td>\n",
       "      <td>0.413896</td>\n",
       "      <td>...</td>\n",
       "      <td>NaN</td>\n",
       "      <td>0</td>\n",
       "      <td>0</td>\n",
       "      <td>NaN</td>\n",
       "      <td>-0.911239</td>\n",
       "      <td>0</td>\n",
       "      <td>NaN</td>\n",
       "      <td>0</td>\n",
       "      <td>NaN</td>\n",
       "      <td>Clear</td>\n",
       "    </tr>\n",
       "    <tr>\n",
       "      <th>51867</th>\n",
       "      <td>WA</td>\n",
       "      <td>Seattle</td>\n",
       "      <td>NaN</td>\n",
       "      <td>Fireball</td>\n",
       "      <td>26</td>\n",
       "      <td>1</td>\n",
       "      <td>2000</td>\n",
       "      <td>19</td>\n",
       "      <td>57543.0</td>\n",
       "      <td>1.751592</td>\n",
       "      <td>...</td>\n",
       "      <td>-0.595177</td>\n",
       "      <td>0</td>\n",
       "      <td>0</td>\n",
       "      <td>NaN</td>\n",
       "      <td>-0.911239</td>\n",
       "      <td>0</td>\n",
       "      <td>0.790264</td>\n",
       "      <td>0</td>\n",
       "      <td>NaN</td>\n",
       "      <td>Mostly Cloudy</td>\n",
       "    </tr>\n",
       "    <tr>\n",
       "      <th>51868</th>\n",
       "      <td>TX</td>\n",
       "      <td>Edinburg</td>\n",
       "      <td>NaN</td>\n",
       "      <td>Light</td>\n",
       "      <td>25</td>\n",
       "      <td>1</td>\n",
       "      <td>2000</td>\n",
       "      <td>19</td>\n",
       "      <td>57544.0</td>\n",
       "      <td>0.230291</td>\n",
       "      <td>...</td>\n",
       "      <td>0.635190</td>\n",
       "      <td>0</td>\n",
       "      <td>0</td>\n",
       "      <td>NaN</td>\n",
       "      <td>0.373899</td>\n",
       "      <td>0</td>\n",
       "      <td>0.171916</td>\n",
       "      <td>0</td>\n",
       "      <td>NaN</td>\n",
       "      <td>Overcast</td>\n",
       "    </tr>\n",
       "    <tr>\n",
       "      <th>51869</th>\n",
       "      <td>NM</td>\n",
       "      <td>Rio Rancho</td>\n",
       "      <td>NaN</td>\n",
       "      <td>Sphere</td>\n",
       "      <td>23</td>\n",
       "      <td>1</td>\n",
       "      <td>2000</td>\n",
       "      <td>15</td>\n",
       "      <td>57549.0</td>\n",
       "      <td>0.545043</td>\n",
       "      <td>...</td>\n",
       "      <td>-2.481068</td>\n",
       "      <td>0</td>\n",
       "      <td>0</td>\n",
       "      <td>-0.092084</td>\n",
       "      <td>0.917612</td>\n",
       "      <td>0</td>\n",
       "      <td>-2.539302</td>\n",
       "      <td>0</td>\n",
       "      <td>-0.640525</td>\n",
       "      <td>Clear</td>\n",
       "    </tr>\n",
       "  </tbody>\n",
       "</table>\n",
       "<p>51870 rows × 27 columns</p>\n",
       "</div>"
      ],
      "text/plain": [
       "      state             city  colour      shape  mday  month  year  hour  \\\n",
       "0        WA          Olympia     NaN  Formation    14     11  1997    21   \n",
       "1        WA          Olympia     NaN   Fireball    14     11  1997    21   \n",
       "2        WA          Olympia     NaN  Formation    14     11  1997    21   \n",
       "3        MD        Salisbury     NaN       Oval    24     11  1997     2   \n",
       "4        MD        Salisbury  YELLOW       Oval    24     11  1997     2   \n",
       "...     ...              ...     ...        ...   ...    ...   ...   ...   \n",
       "51865    AZ  Prescott Valley     NaN     Circle    28      1  2000    20   \n",
       "51866    CA           Covina     NaN      Light    27      1  2000    18   \n",
       "51867    WA          Seattle     NaN   Fireball    26      1  2000    19   \n",
       "51868    TX         Edinburg     NaN      Light    25      1  2000    19   \n",
       "51869    NM       Rio Rancho     NaN     Sphere    23      1  2000    15   \n",
       "\n",
       "            id  pressure  ...     dewpt  thunder  fog    precip      wspd  \\\n",
       "0          NaN -0.163149  ... -0.867472        0    0       NaN -0.357641   \n",
       "1          NaN -0.163149  ... -0.867472        0    0       NaN -0.357641   \n",
       "2          NaN -0.163149  ... -0.867472        0    0       NaN -0.357641   \n",
       "3          NaN -0.189379  ... -0.464073        0    0       NaN -0.911239   \n",
       "4          NaN -0.189379  ... -0.464073        0    0       NaN -0.911239   \n",
       "...        ...       ...  ...       ...      ...  ...       ...       ...   \n",
       "51865  57531.0  0.610616  ... -1.835629        0    0       NaN -0.357641   \n",
       "51866  57536.0  0.413896  ...       NaN        0    0       NaN -0.911239   \n",
       "51867  57543.0  1.751592  ... -0.595177        0    0       NaN -0.911239   \n",
       "51868  57544.0  0.230291  ...  0.635190        0    0       NaN  0.373899   \n",
       "51869  57549.0  0.545043  ... -2.481068        0    0 -0.092084  0.917612   \n",
       "\n",
       "       tornado       hum  snow     wgust          conds  \n",
       "0            0  1.598872     0       NaN          Clear  \n",
       "1            0  1.598872     0       NaN          Clear  \n",
       "2            0  1.598872     0       NaN          Clear  \n",
       "3            0  0.980525     0       NaN  Mostly Cloudy  \n",
       "4            0  0.980525     0       NaN  Mostly Cloudy  \n",
       "...        ...       ...   ...       ...            ...  \n",
       "51865        0 -0.731823     0       NaN          Clear  \n",
       "51866        0       NaN     0       NaN          Clear  \n",
       "51867        0  0.790264     0       NaN  Mostly Cloudy  \n",
       "51868        0  0.171916     0       NaN       Overcast  \n",
       "51869        0 -2.539302     0 -0.640525          Clear  \n",
       "\n",
       "[51870 rows x 27 columns]"
      ]
     },
     "execution_count": 19,
     "metadata": {},
     "output_type": "execute_result"
    }
   ],
   "source": [
    "datasetETs03 = pd.read_csv(\"./consolidated_weather_V03.csv\")\n",
    "datasetETs03"
   ]
  },
  {
   "cell_type": "markdown",
   "id": "46672cc1-88b5-4bec-a2ea-9e52c8d49e51",
   "metadata": {},
   "source": [
    "[Fonte](https://www.kaggle.com/datasets/emorelli/consolidated-ufo-weather-data)\n",
    ">Esse terceiro DataSet tem foco maior nos dados climaticos das regiãos de aparições dos ETs"
   ]
  },
  {
   "cell_type": "code",
   "execution_count": 28,
   "id": "fee64c42-d559-4547-9541-ed396994333d",
   "metadata": {},
   "outputs": [
    {
     "data": {
      "text/plain": [
       "0    CA\n",
       "Name: state, dtype: object"
      ]
     },
     "execution_count": 28,
     "metadata": {},
     "output_type": "execute_result"
    }
   ],
   "source": [
    "datasetETs03[\"state\"].mode()"
   ]
  },
  {
   "cell_type": "code",
   "execution_count": 29,
   "id": "0ae52588-b398-4546-92f5-810d493d3e53",
   "metadata": {},
   "outputs": [
    {
     "data": {
      "text/plain": [
       "0    Phoenix\n",
       "Name: city, dtype: object"
      ]
     },
     "execution_count": 29,
     "metadata": {},
     "output_type": "execute_result"
    }
   ],
   "source": [
    "datasetETs03[\"city\"].mode()"
   ]
  },
  {
   "cell_type": "code",
   "execution_count": 30,
   "id": "05795695-caed-457a-ba19-bb2ff6c2967f",
   "metadata": {},
   "outputs": [
    {
     "data": {
      "text/plain": [
       "0    RED\n",
       "Name: colour, dtype: object"
      ]
     },
     "execution_count": 30,
     "metadata": {},
     "output_type": "execute_result"
    }
   ],
   "source": [
    "datasetETs03[\"colour\"].mode()"
   ]
  },
  {
   "cell_type": "code",
   "execution_count": 31,
   "id": "d3f1678a-22a2-48d9-899b-e11eda1cbdef",
   "metadata": {},
   "outputs": [
    {
     "data": {
      "text/plain": [
       "0    Light\n",
       "Name: shape, dtype: object"
      ]
     },
     "execution_count": 31,
     "metadata": {},
     "output_type": "execute_result"
    }
   ],
   "source": [
    "datasetETs03[\"shape\"].mode()"
   ]
  },
  {
   "cell_type": "code",
   "execution_count": 32,
   "id": "7ffa720e-a1bc-4c1f-9bf5-4281bc516ece",
   "metadata": {},
   "outputs": [
    {
     "data": {
      "text/plain": [
       "0    2014\n",
       "Name: year, dtype: int64"
      ]
     },
     "execution_count": 32,
     "metadata": {},
     "output_type": "execute_result"
    }
   ],
   "source": [
    "datasetETs03[\"year\"].mode()"
   ]
  },
  {
   "cell_type": "code",
   "execution_count": 33,
   "id": "40298048-9e26-4462-955b-3429988cfcf7",
   "metadata": {},
   "outputs": [
    {
     "data": {
      "text/plain": [
       "0    7\n",
       "Name: month, dtype: int64"
      ]
     },
     "execution_count": 33,
     "metadata": {},
     "output_type": "execute_result"
    }
   ],
   "source": [
    "datasetETs03[\"month\"].mode()"
   ]
  },
  {
   "cell_type": "code",
   "execution_count": 34,
   "id": "6f0dc9d6-9426-43e6-91b5-e532d2b48f95",
   "metadata": {},
   "outputs": [
    {
     "data": {
      "text/plain": [
       "0    1\n",
       "Name: mday, dtype: int64"
      ]
     },
     "execution_count": 34,
     "metadata": {},
     "output_type": "execute_result"
    }
   ],
   "source": [
    "datasetETs03[\"mday\"].mode()"
   ]
  },
  {
   "cell_type": "code",
   "execution_count": 35,
   "id": "97933cb7-c474-4e89-9a17-69882c69c041",
   "metadata": {},
   "outputs": [
    {
     "data": {
      "text/plain": [
       "0    Clear\n",
       "Name: conds, dtype: object"
      ]
     },
     "execution_count": 35,
     "metadata": {},
     "output_type": "execute_result"
    }
   ],
   "source": [
    "datasetETs03[\"conds\"].mode()"
   ]
  },
  {
   "cell_type": "markdown",
   "id": "0e4335b5-7fc8-48db-b855-b2ea21f4a77d",
   "metadata": {},
   "source": [
    ">Esse dataframe é mais tratado, tem os dados bem dispostos, é possiveil trabalhar com mais clareza. Coloquei as modas de algumas variaveis, outras são bem mais especificas sobre a geolocalizaçao e clima, optamos por não trabalhar com elas agora."
   ]
  },
  {
   "cell_type": "code",
   "execution_count": 36,
   "id": "b6f7bab4-f769-4768-a80f-71d3aef9ba86",
   "metadata": {},
   "outputs": [
    {
     "data": {
      "text/plain": [
       "Index(['state', 'city', 'colour', 'shape', 'mday', 'month', 'year', 'hour',\n",
       "       'id', 'pressure', 'temp', 'hail', 'heatindex', 'windchill', 'rain',\n",
       "       'vis', 'wdire', 'dewpt', 'thunder', 'fog', 'precip', 'wspd', 'tornado',\n",
       "       'hum', 'snow', 'wgust', 'conds'],\n",
       "      dtype='object')"
      ]
     },
     "execution_count": 36,
     "metadata": {},
     "output_type": "execute_result"
    }
   ],
   "source": [
    "datasetETs03.columns"
   ]
  },
  {
   "cell_type": "code",
   "execution_count": null,
   "id": "3037e06f-c342-42ed-91ac-9dcf1f52bcc3",
   "metadata": {},
   "outputs": [],
   "source": []
  }
 ],
 "metadata": {
  "kernelspec": {
   "display_name": "Python 3 (ipykernel)",
   "language": "python",
   "name": "python3"
  },
  "language_info": {
   "codemirror_mode": {
    "name": "ipython",
    "version": 3
   },
   "file_extension": ".py",
   "mimetype": "text/x-python",
   "name": "python",
   "nbconvert_exporter": "python",
   "pygments_lexer": "ipython3",
   "version": "3.11.4"
  }
 },
 "nbformat": 4,
 "nbformat_minor": 5
}
