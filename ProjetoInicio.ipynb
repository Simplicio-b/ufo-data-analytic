{
 "cells": [
  {
   "cell_type": "markdown",
   "id": "1a4b6fb6-7241-4e51-a39d-7613ce42f76d",
   "metadata": {},
   "source": [
    "# Trabalho de ICD: UAP (Fenômenos Anômalos não Identificados)\n",
    "*Professor: Yuri Malheiros Alunos: Vitoria, Simplicio, Daiellem, Bruno*\n",
    "\n",
    "### Limpeza:"
   ]
  },
  {
   "cell_type": "code",
   "execution_count": 1,
   "id": "c589bdc0-1a75-4531-bc89-6afa8c99d2ee",
   "metadata": {},
   "outputs": [],
   "source": [
    "import pandas as pd\n",
    "import numpy as np"
   ]
  },
  {
   "cell_type": "code",
   "execution_count": 2,
   "id": "5de7ee25-0299-4f4e-86cf-dec78ad6efde",
   "metadata": {},
   "outputs": [],
   "source": [
    "import seaborn as sns\n",
    "import matplotlib.pyplot as plt"
   ]
  },
  {
   "cell_type": "code",
   "execution_count": 3,
   "id": "521b883a-758b-46bd-980d-b5f33c04abe7",
   "metadata": {},
   "outputs": [
    {
     "name": "stdout",
     "output_type": "stream",
     "text": [
      "<class 'pandas.core.frame.DataFrame'>\n",
      "RangeIndex: 1317 entries, 0 to 1316\n",
      "Data columns (total 13 columns):\n",
      " #   Column      Non-Null Count  Dtype  \n",
      "---  ------      --------------  -----  \n",
      " 0   posted      1317 non-null   object \n",
      " 1   date        1317 non-null   object \n",
      " 2   time        1317 non-null   object \n",
      " 3   city        1317 non-null   object \n",
      " 4   state       1317 non-null   object \n",
      " 5   shape       1317 non-null   object \n",
      " 6   duration    1243 non-null   object \n",
      " 7   summary     1317 non-null   object \n",
      " 8   images      1317 non-null   object \n",
      " 9   img_link    1317 non-null   object \n",
      " 10  lat         1317 non-null   float64\n",
      " 11  lng         1317 non-null   float64\n",
      " 12  population  1317 non-null   int64  \n",
      "dtypes: float64(2), int64(1), object(10)\n",
      "memory usage: 133.9+ KB\n"
     ]
    }
   ],
   "source": [
    "df1 = pd.read_csv(\"./ufo_data_nuforc.csv\")\n",
    "df1.info()"
   ]
  },
  {
   "cell_type": "markdown",
   "id": "7bbf4bcc-b925-4d91-ac29-a6da247e39c0",
   "metadata": {},
   "source": [
    "[Fonte](https://www.kaggle.com/datasets/joebeachcapital/ufo-sightings)"
   ]
  },
  {
   "cell_type": "markdown",
   "id": "4a3c62f1-06bc-4c3d-9666-0e38a165b059",
   "metadata": {},
   "source": [
    "Esse primeiro não apresenta dados para remover ou modificar, vamos verificar se tem linhas duplicadas."
   ]
  },
  {
   "cell_type": "code",
   "execution_count": 140,
   "id": "a3457445-80db-428a-b072-164acc624c76",
   "metadata": {},
   "outputs": [
    {
     "name": "stdout",
     "output_type": "stream",
     "text": [
      "<class 'pandas.core.frame.DataFrame'>\n",
      "RangeIndex: 1317 entries, 0 to 1316\n",
      "Data columns (total 13 columns):\n",
      " #   Column      Non-Null Count  Dtype  \n",
      "---  ------      --------------  -----  \n",
      " 0   posted      1317 non-null   object \n",
      " 1   date        1317 non-null   object \n",
      " 2   time        1317 non-null   object \n",
      " 3   city        1317 non-null   object \n",
      " 4   state       1317 non-null   object \n",
      " 5   shape       1317 non-null   object \n",
      " 6   duration    1243 non-null   object \n",
      " 7   summary     1317 non-null   object \n",
      " 8   images      1317 non-null   object \n",
      " 9   img_link    1317 non-null   object \n",
      " 10  lat         1317 non-null   float64\n",
      " 11  lng         1317 non-null   float64\n",
      " 12  population  1317 non-null   int64  \n",
      "dtypes: float64(2), int64(1), object(10)\n",
      "memory usage: 133.9+ KB\n"
     ]
    }
   ],
   "source": [
    "df1 = df1.drop_duplicates()\n",
    "df1.info()"
   ]
  },
  {
   "cell_type": "markdown",
   "id": "f1bceec3-4792-4e1a-b636-4063a8bea4a6",
   "metadata": {},
   "source": [
    "Não há linhas duplicadas tambem, logo abaixo só salvamos uma copia dele para que fique mais facil de saber com que dataframe estamos trabalhando e não nos perdemos. Vamos para o próximo"
   ]
  },
  {
   "cell_type": "code",
   "execution_count": 141,
   "id": "9df6e13b-57c9-4ab1-8fed-ad719b00dd9d",
   "metadata": {},
   "outputs": [],
   "source": [
    "df1.to_csv('df1.csv')"
   ]
  },
  {
   "cell_type": "code",
   "execution_count": 142,
   "id": "0f1fb7c6-dd95-4f90-921e-6501f7ecdb25",
   "metadata": {},
   "outputs": [],
   "source": [
    "df2= pd.read_csv(\"./datasetETs.csv\", low_memory=False)"
   ]
  },
  {
   "cell_type": "markdown",
   "id": "23fd2435-38d9-461a-8bf1-b940b8e7a12a",
   "metadata": {},
   "source": [
    "[Fonte](https://www.kaggle.com/datasets/camnugent/ufo-sightings-around-the-world)"
   ]
  },
  {
   "cell_type": "code",
   "execution_count": 143,
   "id": "b3381499-4fcb-4a33-9c86-46d842c2471a",
   "metadata": {},
   "outputs": [
    {
     "name": "stdout",
     "output_type": "stream",
     "text": [
      "<class 'pandas.core.frame.DataFrame'>\n",
      "RangeIndex: 80332 entries, 0 to 80331\n",
      "Data columns (total 11 columns):\n",
      " #   Column                           Non-Null Count  Dtype  \n",
      "---  ------                           --------------  -----  \n",
      " 0   Date_time                        80332 non-null  object \n",
      " 1   city                             80332 non-null  object \n",
      " 2   state/province                   74535 non-null  object \n",
      " 3   country                          70662 non-null  object \n",
      " 4   UFO_shape                        78400 non-null  object \n",
      " 5   length_of_encounter_seconds      80332 non-null  object \n",
      " 6   described_duration_of_encounter  80332 non-null  object \n",
      " 7   description                      80317 non-null  object \n",
      " 8   date_documented                  80332 non-null  object \n",
      " 9   latitude                         80332 non-null  object \n",
      " 10  longitude                        80332 non-null  float64\n",
      "dtypes: float64(1), object(10)\n",
      "memory usage: 6.7+ MB\n"
     ]
    }
   ],
   "source": [
    "df2.info()"
   ]
  },
  {
   "cell_type": "markdown",
   "id": "ac867dd7-9859-44e3-92e5-7dc6d8b0eb15",
   "metadata": {},
   "source": [
    "Esse dataframe tem poucas colunas com dados quantitativos, mas uma rapida olhada percebe-se que a coluna da latitude que conta com dados numericos esta como object, logo algo esta errado(muitas das vezes isso acontece quando digitamos a virgula ao inves do ponto, mas não era esse o problema procurei mais um pouco e descobri que foi digitado em uma das linhas uma letra no meio dos numeros, como eu sabia qual era a letra usei o replace para removela e transformar otipo da coluna para float)"
   ]
  },
  {
   "cell_type": "code",
   "execution_count": 144,
   "id": "b2171774-7cbc-4da0-b0aa-35a30ab2735f",
   "metadata": {},
   "outputs": [],
   "source": [
    "df2[\"latitude\"] = df2[\"latitude\"].str.replace('q', '').astype(float)"
   ]
  },
  {
   "cell_type": "code",
   "execution_count": 145,
   "id": "ff360181-7023-4978-a270-db219fd2c540",
   "metadata": {},
   "outputs": [
    {
     "name": "stdout",
     "output_type": "stream",
     "text": [
      "<class 'pandas.core.frame.DataFrame'>\n",
      "RangeIndex: 80332 entries, 0 to 80331\n",
      "Data columns (total 11 columns):\n",
      " #   Column                           Non-Null Count  Dtype  \n",
      "---  ------                           --------------  -----  \n",
      " 0   Date_time                        80332 non-null  object \n",
      " 1   city                             80332 non-null  object \n",
      " 2   state/province                   74535 non-null  object \n",
      " 3   country                          70662 non-null  object \n",
      " 4   UFO_shape                        78400 non-null  object \n",
      " 5   length_of_encounter_seconds      80332 non-null  object \n",
      " 6   described_duration_of_encounter  80332 non-null  object \n",
      " 7   description                      80317 non-null  object \n",
      " 8   date_documented                  80332 non-null  object \n",
      " 9   latitude                         80332 non-null  float64\n",
      " 10  longitude                        80332 non-null  float64\n",
      "dtypes: float64(2), object(9)\n",
      "memory usage: 6.7+ MB\n"
     ]
    }
   ],
   "source": [
    "df2.info()"
   ]
  },
  {
   "cell_type": "code",
   "execution_count": 146,
   "id": "370e4d0e-cbe8-4926-89ed-bd85a91f72f4",
   "metadata": {},
   "outputs": [],
   "source": [
    "df2.to_csv('df2.csv')"
   ]
  },
  {
   "cell_type": "code",
   "execution_count": 147,
   "id": "9fad2b77-0787-47d6-b263-dc7a57496d47",
   "metadata": {},
   "outputs": [],
   "source": [
    "df3= pd.read_csv(\"./consolidated_weather_V03.csv\")"
   ]
  },
  {
   "cell_type": "markdown",
   "id": "371b7bca-3ec5-4bfd-80fe-79d2c02ec6fe",
   "metadata": {},
   "source": [
    "[Fonte](https://www.kaggle.com/datasets/emorelli/consolidated-ufo-weather-data)"
   ]
  },
  {
   "cell_type": "code",
   "execution_count": 148,
   "id": "dbd08b6d-37b6-4e24-896d-fb0cdb81180d",
   "metadata": {},
   "outputs": [
    {
     "name": "stdout",
     "output_type": "stream",
     "text": [
      "<class 'pandas.core.frame.DataFrame'>\n",
      "RangeIndex: 51870 entries, 0 to 51869\n",
      "Data columns (total 27 columns):\n",
      " #   Column     Non-Null Count  Dtype  \n",
      "---  ------     --------------  -----  \n",
      " 0   state      51870 non-null  object \n",
      " 1   city       51870 non-null  object \n",
      " 2   colour     80 non-null     object \n",
      " 3   shape      51868 non-null  object \n",
      " 4   mday       51870 non-null  int64  \n",
      " 5   month      51870 non-null  int64  \n",
      " 6   year       51870 non-null  int64  \n",
      " 7   hour       51870 non-null  int64  \n",
      " 8   id         51631 non-null  float64\n",
      " 9   pressure   51659 non-null  float64\n",
      " 10  temp       51544 non-null  float64\n",
      " 11  hail       51870 non-null  int64  \n",
      " 12  heatindex  3589 non-null   float64\n",
      " 13  windchill  8718 non-null   float64\n",
      " 14  rain       51870 non-null  int64  \n",
      " 15  vis        51170 non-null  float64\n",
      " 16  wdire      51863 non-null  object \n",
      " 17  dewpt      51393 non-null  float64\n",
      " 18  thunder    51870 non-null  int64  \n",
      " 19  fog        51870 non-null  int64  \n",
      " 20  precip     2011 non-null   float64\n",
      " 21  wspd       51523 non-null  float64\n",
      " 22  tornado    51870 non-null  int64  \n",
      " 23  hum        51392 non-null  float64\n",
      " 24  snow       51870 non-null  int64  \n",
      " 25  wgust      3274 non-null   float64\n",
      " 26  conds      51863 non-null  object \n",
      "dtypes: float64(11), int64(10), object(6)\n",
      "memory usage: 10.7+ MB\n"
     ]
    }
   ],
   "source": [
    "df3.info()"
   ]
  },
  {
   "cell_type": "code",
   "execution_count": 149,
   "id": "e4859bce-0457-4a3c-bd2d-8f7f9e72f5b6",
   "metadata": {},
   "outputs": [
    {
     "data": {
      "text/html": [
       "<div>\n",
       "<style scoped>\n",
       "    .dataframe tbody tr th:only-of-type {\n",
       "        vertical-align: middle;\n",
       "    }\n",
       "\n",
       "    .dataframe tbody tr th {\n",
       "        vertical-align: top;\n",
       "    }\n",
       "\n",
       "    .dataframe thead th {\n",
       "        text-align: right;\n",
       "    }\n",
       "</style>\n",
       "<table border=\"1\" class=\"dataframe\">\n",
       "  <thead>\n",
       "    <tr style=\"text-align: right;\">\n",
       "      <th></th>\n",
       "      <th>mday</th>\n",
       "      <th>month</th>\n",
       "      <th>year</th>\n",
       "      <th>hour</th>\n",
       "      <th>id</th>\n",
       "      <th>pressure</th>\n",
       "      <th>temp</th>\n",
       "      <th>hail</th>\n",
       "      <th>heatindex</th>\n",
       "      <th>windchill</th>\n",
       "      <th>...</th>\n",
       "      <th>vis</th>\n",
       "      <th>dewpt</th>\n",
       "      <th>thunder</th>\n",
       "      <th>fog</th>\n",
       "      <th>precip</th>\n",
       "      <th>wspd</th>\n",
       "      <th>tornado</th>\n",
       "      <th>hum</th>\n",
       "      <th>snow</th>\n",
       "      <th>wgust</th>\n",
       "    </tr>\n",
       "  </thead>\n",
       "  <tbody>\n",
       "    <tr>\n",
       "      <th>count</th>\n",
       "      <td>51870.000000</td>\n",
       "      <td>51870.000000</td>\n",
       "      <td>51870.000000</td>\n",
       "      <td>51870.000000</td>\n",
       "      <td>51631.000000</td>\n",
       "      <td>5.165900e+04</td>\n",
       "      <td>5.154400e+04</td>\n",
       "      <td>51870.0</td>\n",
       "      <td>3.589000e+03</td>\n",
       "      <td>8.718000e+03</td>\n",
       "      <td>...</td>\n",
       "      <td>5.117000e+04</td>\n",
       "      <td>5.139300e+04</td>\n",
       "      <td>51870.000000</td>\n",
       "      <td>51870.000000</td>\n",
       "      <td>2.011000e+03</td>\n",
       "      <td>5.152300e+04</td>\n",
       "      <td>51870.000000</td>\n",
       "      <td>5.139200e+04</td>\n",
       "      <td>51870.000000</td>\n",
       "      <td>3.274000e+03</td>\n",
       "    </tr>\n",
       "    <tr>\n",
       "      <th>mean</th>\n",
       "      <td>15.322749</td>\n",
       "      <td>6.894351</td>\n",
       "      <td>2009.453827</td>\n",
       "      <td>16.072527</td>\n",
       "      <td>29711.072979</td>\n",
       "      <td>-3.455401e-15</td>\n",
       "      <td>-3.639285e-17</td>\n",
       "      <td>0.0</td>\n",
       "      <td>4.701975e-17</td>\n",
       "      <td>-1.630059e-18</td>\n",
       "      <td>...</td>\n",
       "      <td>-2.654989e-16</td>\n",
       "      <td>-2.599226e-16</td>\n",
       "      <td>0.006131</td>\n",
       "      <td>0.003837</td>\n",
       "      <td>-1.192482e-17</td>\n",
       "      <td>2.107232e-16</td>\n",
       "      <td>0.000039</td>\n",
       "      <td>-3.804899e-16</td>\n",
       "      <td>0.004184</td>\n",
       "      <td>2.387285e-16</td>\n",
       "    </tr>\n",
       "    <tr>\n",
       "      <th>std</th>\n",
       "      <td>8.871178</td>\n",
       "      <td>3.267532</td>\n",
       "      <td>5.226278</td>\n",
       "      <td>7.484027</td>\n",
       "      <td>17334.403676</td>\n",
       "      <td>1.000000e+00</td>\n",
       "      <td>1.000000e+00</td>\n",
       "      <td>0.0</td>\n",
       "      <td>1.000000e+00</td>\n",
       "      <td>1.000000e+00</td>\n",
       "      <td>...</td>\n",
       "      <td>1.000000e+00</td>\n",
       "      <td>1.000000e+00</td>\n",
       "      <td>0.078059</td>\n",
       "      <td>0.061821</td>\n",
       "      <td>1.000000e+00</td>\n",
       "      <td>1.000000e+00</td>\n",
       "      <td>0.006209</td>\n",
       "      <td>1.000000e+00</td>\n",
       "      <td>0.064545</td>\n",
       "      <td>1.000000e+00</td>\n",
       "    </tr>\n",
       "    <tr>\n",
       "      <th>min</th>\n",
       "      <td>1.000000</td>\n",
       "      <td>1.000000</td>\n",
       "      <td>1997.000000</td>\n",
       "      <td>0.000000</td>\n",
       "      <td>1.000000</td>\n",
       "      <td>-1.200574e+02</td>\n",
       "      <td>-5.419079e+00</td>\n",
       "      <td>0.0</td>\n",
       "      <td>-1.233485e+00</td>\n",
       "      <td>-6.294104e+00</td>\n",
       "      <td>...</td>\n",
       "      <td>-2.740390e+00</td>\n",
       "      <td>-4.498063e+00</td>\n",
       "      <td>0.000000</td>\n",
       "      <td>0.000000</td>\n",
       "      <td>-9.208378e-02</td>\n",
       "      <td>-9.112390e-01</td>\n",
       "      <td>0.000000</td>\n",
       "      <td>-2.967389e+00</td>\n",
       "      <td>0.000000</td>\n",
       "      <td>-3.629085e+00</td>\n",
       "    </tr>\n",
       "    <tr>\n",
       "      <th>25%</th>\n",
       "      <td>8.000000</td>\n",
       "      <td>4.000000</td>\n",
       "      <td>2005.000000</td>\n",
       "      <td>11.000000</td>\n",
       "      <td>14740.500000</td>\n",
       "      <td>-5.172452e-01</td>\n",
       "      <td>-6.505150e-01</td>\n",
       "      <td>0.0</td>\n",
       "      <td>-6.061522e-01</td>\n",
       "      <td>-4.887421e-01</td>\n",
       "      <td>...</td>\n",
       "      <td>6.427250e-02</td>\n",
       "      <td>-7.061121e-01</td>\n",
       "      <td>0.000000</td>\n",
       "      <td>0.000000</td>\n",
       "      <td>-9.208378e-02</td>\n",
       "      <td>-9.112390e-01</td>\n",
       "      <td>0.000000</td>\n",
       "      <td>-6.366929e-01</td>\n",
       "      <td>0.000000</td>\n",
       "      <td>-6.405246e-01</td>\n",
       "    </tr>\n",
       "    <tr>\n",
       "      <th>50%</th>\n",
       "      <td>15.000000</td>\n",
       "      <td>7.000000</td>\n",
       "      <td>2011.000000</td>\n",
       "      <td>20.000000</td>\n",
       "      <td>29475.000000</td>\n",
       "      <td>-3.200259e-02</td>\n",
       "      <td>1.284951e-01</td>\n",
       "      <td>0.0</td>\n",
       "      <td>-1.970223e-01</td>\n",
       "      <td>2.087467e-01</td>\n",
       "      <td>...</td>\n",
       "      <td>6.427250e-02</td>\n",
       "      <td>1.309408e-01</td>\n",
       "      <td>0.000000</td>\n",
       "      <td>0.000000</td>\n",
       "      <td>-9.208378e-02</td>\n",
       "      <td>8.129116e-03</td>\n",
       "      <td>0.000000</td>\n",
       "      <td>1.719158e-01</td>\n",
       "      <td>0.000000</td>\n",
       "      <td>-1.187125e-01</td>\n",
       "    </tr>\n",
       "    <tr>\n",
       "      <th>75%</th>\n",
       "      <td>23.000000</td>\n",
       "      <td>10.000000</td>\n",
       "      <td>2014.000000</td>\n",
       "      <td>21.000000</td>\n",
       "      <td>44513.500000</td>\n",
       "      <td>5.056987e-01</td>\n",
       "      <td>7.517031e-01</td>\n",
       "      <td>0.0</td>\n",
       "      <td>4.303103e-01</td>\n",
       "      <td>7.371474e-01</td>\n",
       "      <td>...</td>\n",
       "      <td>6.427250e-02</td>\n",
       "      <td>7.461243e-01</td>\n",
       "      <td>0.000000</td>\n",
       "      <td>0.000000</td>\n",
       "      <td>-5.515109e-02</td>\n",
       "      <td>3.738992e-01</td>\n",
       "      <td>0.000000</td>\n",
       "      <td>7.902636e-01</td>\n",
       "      <td>0.000000</td>\n",
       "      <td>4.125871e-01</td>\n",
       "    </tr>\n",
       "    <tr>\n",
       "      <th>max</th>\n",
       "      <td>31.000000</td>\n",
       "      <td>12.000000</td>\n",
       "      <td>2017.000000</td>\n",
       "      <td>23.000000</td>\n",
       "      <td>60937.000000</td>\n",
       "      <td>4.466328e+00</td>\n",
       "      <td>4.102724e+00</td>\n",
       "      <td>0.0</td>\n",
       "      <td>3.676105e+01</td>\n",
       "      <td>1.371228e+00</td>\n",
       "      <td>...</td>\n",
       "      <td>3.089814e+01</td>\n",
       "      <td>3.973317e+00</td>\n",
       "      <td>1.000000</td>\n",
       "      <td>1.000000</td>\n",
       "      <td>3.117759e+01</td>\n",
       "      <td>9.886492e+01</td>\n",
       "      <td>1.000000</td>\n",
       "      <td>1.598872e+00</td>\n",
       "      <td>1.000000</td>\n",
       "      <td>7.262557e+00</td>\n",
       "    </tr>\n",
       "  </tbody>\n",
       "</table>\n",
       "<p>8 rows × 21 columns</p>\n",
       "</div>"
      ],
      "text/plain": [
       "               mday         month          year          hour            id  \\\n",
       "count  51870.000000  51870.000000  51870.000000  51870.000000  51631.000000   \n",
       "mean      15.322749      6.894351   2009.453827     16.072527  29711.072979   \n",
       "std        8.871178      3.267532      5.226278      7.484027  17334.403676   \n",
       "min        1.000000      1.000000   1997.000000      0.000000      1.000000   \n",
       "25%        8.000000      4.000000   2005.000000     11.000000  14740.500000   \n",
       "50%       15.000000      7.000000   2011.000000     20.000000  29475.000000   \n",
       "75%       23.000000     10.000000   2014.000000     21.000000  44513.500000   \n",
       "max       31.000000     12.000000   2017.000000     23.000000  60937.000000   \n",
       "\n",
       "           pressure          temp     hail     heatindex     windchill  ...  \\\n",
       "count  5.165900e+04  5.154400e+04  51870.0  3.589000e+03  8.718000e+03  ...   \n",
       "mean  -3.455401e-15 -3.639285e-17      0.0  4.701975e-17 -1.630059e-18  ...   \n",
       "std    1.000000e+00  1.000000e+00      0.0  1.000000e+00  1.000000e+00  ...   \n",
       "min   -1.200574e+02 -5.419079e+00      0.0 -1.233485e+00 -6.294104e+00  ...   \n",
       "25%   -5.172452e-01 -6.505150e-01      0.0 -6.061522e-01 -4.887421e-01  ...   \n",
       "50%   -3.200259e-02  1.284951e-01      0.0 -1.970223e-01  2.087467e-01  ...   \n",
       "75%    5.056987e-01  7.517031e-01      0.0  4.303103e-01  7.371474e-01  ...   \n",
       "max    4.466328e+00  4.102724e+00      0.0  3.676105e+01  1.371228e+00  ...   \n",
       "\n",
       "                vis         dewpt       thunder           fog        precip  \\\n",
       "count  5.117000e+04  5.139300e+04  51870.000000  51870.000000  2.011000e+03   \n",
       "mean  -2.654989e-16 -2.599226e-16      0.006131      0.003837 -1.192482e-17   \n",
       "std    1.000000e+00  1.000000e+00      0.078059      0.061821  1.000000e+00   \n",
       "min   -2.740390e+00 -4.498063e+00      0.000000      0.000000 -9.208378e-02   \n",
       "25%    6.427250e-02 -7.061121e-01      0.000000      0.000000 -9.208378e-02   \n",
       "50%    6.427250e-02  1.309408e-01      0.000000      0.000000 -9.208378e-02   \n",
       "75%    6.427250e-02  7.461243e-01      0.000000      0.000000 -5.515109e-02   \n",
       "max    3.089814e+01  3.973317e+00      1.000000      1.000000  3.117759e+01   \n",
       "\n",
       "               wspd       tornado           hum          snow         wgust  \n",
       "count  5.152300e+04  51870.000000  5.139200e+04  51870.000000  3.274000e+03  \n",
       "mean   2.107232e-16      0.000039 -3.804899e-16      0.004184  2.387285e-16  \n",
       "std    1.000000e+00      0.006209  1.000000e+00      0.064545  1.000000e+00  \n",
       "min   -9.112390e-01      0.000000 -2.967389e+00      0.000000 -3.629085e+00  \n",
       "25%   -9.112390e-01      0.000000 -6.366929e-01      0.000000 -6.405246e-01  \n",
       "50%    8.129116e-03      0.000000  1.719158e-01      0.000000 -1.187125e-01  \n",
       "75%    3.738992e-01      0.000000  7.902636e-01      0.000000  4.125871e-01  \n",
       "max    9.886492e+01      1.000000  1.598872e+00      1.000000  7.262557e+00  \n",
       "\n",
       "[8 rows x 21 columns]"
      ]
     },
     "execution_count": 149,
     "metadata": {},
     "output_type": "execute_result"
    }
   ],
   "source": [
    "df3.describe()"
   ]
  },
  {
   "cell_type": "markdown",
   "id": "4e26973d-4bf9-4ee2-83a7-52093f51c14c",
   "metadata": {},
   "source": [
    "O comando .info( ) é essêncial para conhecer nosso dataframe informa as caractersiticas das nossas colunas apresentado a quantidade de dados, a quantidade de dados vazios e o tipo de dado que das colunas. Já o comando .decribe( ) trás informações mais precisas, por padrão utiliza apenas dados quantitativos informando a quantidade de dados(por aqui já se pode saber a quantidade de valores vazios), a media dos valores, std é o desvio padrão, Min e max são os valores que nos auxiliam para identificar a amplitude da amostra. \n",
    "Os valores de 25%, 50% e 75% são os quartis, são os valores que nos mostram de que forma os dados foram distribuídos, veremos depois na usando o boxplot. \n",
    "\n",
    "Podemos usar dados categoricos com o .describe(), desde que os especificamos as colunas na entrada. Como os dados são categóricos, a função describe retorna cálculos mais adequados para estes tipos de dados, como a contagem de valores distintos (unique), a moda (top) e a frequência da mesma (freq), assim como tambem é possivel saber quanto de valores vazios cada coluna tem.\n",
    "Com essa visualizão nós conseguimos pensar em informações que queremos extrair desse dataframe e, o que nos interessa nessa parte do projeto, atraves de qual grafico fica melhor a visualização das informações."
   ]
  },
  {
   "cell_type": "markdown",
   "id": "8c6e09dd-675b-402f-a267-bda83a217a9f",
   "metadata": {},
   "source": [
    "Nós conseguimos indentificar que existe muitas colunas com nome de variaveis de condições climaticas, mas existe uma coluna com o nome 'conds' que tambem tem esses dados, ou seja, essas colunas são desnecessarias,vamos agora remove-las."
   ]
  },
  {
   "cell_type": "code",
   "execution_count": 150,
   "id": "da23c247-3c32-45f9-ba0e-148e367e10cf",
   "metadata": {},
   "outputs": [],
   "source": [
    "df3 = df3.drop([\"snow\", \"tornado\", \"fog\", \"thunder\", \"rain\", \"hail\"], axis = 1)"
   ]
  },
  {
   "cell_type": "code",
   "execution_count": 151,
   "id": "8cdc315f-bddb-44e0-aaba-94678afeb71c",
   "metadata": {},
   "outputs": [
    {
     "name": "stdout",
     "output_type": "stream",
     "text": [
      "<class 'pandas.core.frame.DataFrame'>\n",
      "RangeIndex: 51870 entries, 0 to 51869\n",
      "Data columns (total 21 columns):\n",
      " #   Column     Non-Null Count  Dtype  \n",
      "---  ------     --------------  -----  \n",
      " 0   state      51870 non-null  object \n",
      " 1   city       51870 non-null  object \n",
      " 2   colour     80 non-null     object \n",
      " 3   shape      51868 non-null  object \n",
      " 4   mday       51870 non-null  int64  \n",
      " 5   month      51870 non-null  int64  \n",
      " 6   year       51870 non-null  int64  \n",
      " 7   hour       51870 non-null  int64  \n",
      " 8   id         51631 non-null  float64\n",
      " 9   pressure   51659 non-null  float64\n",
      " 10  temp       51544 non-null  float64\n",
      " 11  heatindex  3589 non-null   float64\n",
      " 12  windchill  8718 non-null   float64\n",
      " 13  vis        51170 non-null  float64\n",
      " 14  wdire      51863 non-null  object \n",
      " 15  dewpt      51393 non-null  float64\n",
      " 16  precip     2011 non-null   float64\n",
      " 17  wspd       51523 non-null  float64\n",
      " 18  hum        51392 non-null  float64\n",
      " 19  wgust      3274 non-null   float64\n",
      " 20  conds      51863 non-null  object \n",
      "dtypes: float64(11), int64(4), object(6)\n",
      "memory usage: 8.3+ MB\n"
     ]
    }
   ],
   "source": [
    "df3.info()"
   ]
  },
  {
   "cell_type": "markdown",
   "id": "f304b741-a700-4e96-99f8-a844e5c14fd7",
   "metadata": {},
   "source": [
    "Agora vamos remover as linhas duplicadas do dataframe, usando o comando .drop_duplicates())"
   ]
  },
  {
   "cell_type": "code",
   "execution_count": 152,
   "id": "442404d5-1477-4c87-b7b4-0a9dce4d5bb1",
   "metadata": {},
   "outputs": [],
   "source": [
    "df3 = df3.drop_duplicates()"
   ]
  },
  {
   "cell_type": "code",
   "execution_count": 153,
   "id": "38504e9d-fa5d-4076-a6f8-f6805c5358b5",
   "metadata": {},
   "outputs": [],
   "source": [
    "df3.to_csv('df3.csv')"
   ]
  },
  {
   "cell_type": "markdown",
   "id": "ce6ce187-fb0b-41c6-b40f-1f2adbb797d8",
   "metadata": {},
   "source": [
    "OBSERVAÇÃO: O nome \"Fonte\" é o link de cada dataset original. "
   ]
  },
  {
   "cell_type": "code",
   "execution_count": null,
   "id": "d2b14833-9702-495b-9cb8-600a54a9f9b7",
   "metadata": {},
   "outputs": [],
   "source": []
  }
 ],
 "metadata": {
  "kernelspec": {
   "display_name": "Python 3 (ipykernel)",
   "language": "python",
   "name": "python3"
  },
  "language_info": {
   "codemirror_mode": {
    "name": "ipython",
    "version": 3
   },
   "file_extension": ".py",
   "mimetype": "text/x-python",
   "name": "python",
   "nbconvert_exporter": "python",
   "pygments_lexer": "ipython3",
   "version": "3.11.4"
  }
 },
 "nbformat": 4,
 "nbformat_minor": 5
}
